{
 "cells": [
  {
   "cell_type": "markdown",
   "metadata": {},
   "source": [
    "# Image recognition\n",
    "## Task 2.1\n",
    "---\n",
    "Task di classificazione di opere d'arte su 18 classi facenti riferimento a movimenti artistici di appartenenza."
   ]
  },
  {
   "cell_type": "markdown",
   "metadata": {},
   "source": [
    "### Importazione delle librerie"
   ]
  },
  {
   "cell_type": "code",
   "execution_count": 1,
   "metadata": {},
   "outputs": [
    {
     "name": "stderr",
     "output_type": "stream",
     "text": [
      "Using TensorFlow backend.\n"
     ]
    }
   ],
   "source": [
    "import pandas as pd\n",
    "import numpy as np\n",
    "import os\n",
    "import matplotlib.pyplot as plt\n",
    "import random\n",
    "from shutil import copyfile\n",
    "from time import time\n",
    "import zipfile\n",
    "\n",
    "from sklearn.metrics import classification_report, confusion_matrix\n",
    "import keras\n",
    "from keras.applications import resnet50, densenet\n",
    "from keras.preprocessing import image as kimage\n",
    "from keras.models import Model, load_model\n",
    "from keras.layers import Dense, GlobalAveragePooling2D, Dropout, Average, Input\n",
    "from keras.callbacks import EarlyStopping, ModelCheckpoint, ReduceLROnPlateau\n",
    "from keras import optimizers\n",
    "from keras.regularizers import l1, l2\n",
    "from keras.backend.tensorflow_backend import set_session\n",
    "from keras.backend.tensorflow_backend import clear_session\n",
    "from keras.backend.tensorflow_backend import get_session\n",
    "\n",
    "import gc\n",
    "import tensorflow"
   ]
  },
  {
   "cell_type": "markdown",
   "metadata": {},
   "source": [
    "### Definizione delle classi da classificare"
   ]
  },
  {
   "cell_type": "code",
   "execution_count": 3,
   "metadata": {},
   "outputs": [
    {
     "data": {
      "text/plain": [
       "['AbstractArt',\n",
       " 'Baroque',\n",
       " 'Byzantin_Iconography',\n",
       " 'Cubism',\n",
       " 'Early_Renaissance',\n",
       " 'Expressionism',\n",
       " 'Fauvism',\n",
       " 'High_Renaissance',\n",
       " 'Impressionism',\n",
       " 'NaiveArt',\n",
       " 'Northern_Renaissance',\n",
       " 'PopArt',\n",
       " 'Post_Impressionism',\n",
       " 'Realism',\n",
       " 'Rococo',\n",
       " 'Romanticism',\n",
       " 'Surrealism',\n",
       " 'Symbolism']"
      ]
     },
     "execution_count": 3,
     "metadata": {},
     "output_type": "execute_result"
    }
   ],
   "source": [
    "classes = os.listdir('Pandora_18k')\n",
    "random.seed(1)\n",
    "classes.remove('.DS_Store')\n",
    "classes"
   ]
  },
  {
   "cell_type": "markdown",
   "metadata": {},
   "source": [
    "## Modello 1: Resnet50_basic"
   ]
  },
  {
   "cell_type": "code",
   "execution_count": 4,
   "metadata": {},
   "outputs": [
    {
     "name": "stdout",
     "output_type": "stream",
     "text": [
      "Found 52330 images belonging to 18 classes.\n"
     ]
    }
   ],
   "source": [
    "# Training set generator\n",
    "train_datagen_rb = kimage.ImageDataGenerator(preprocessing_function=resnet50.preprocess_input)\n",
    "train_generator_rb = train_datagen_rb.flow_from_directory(\n",
    "        directory='./mask5_train',\n",
    "        target_size=(224, 224),\n",
    "        color_mode=\"rgb\",\n",
    "        batch_size=128,\n",
    "        class_mode=\"categorical\",\n",
    "        shuffle=True,\n",
    "        seed=1\n",
    ")"
   ]
  },
  {
   "cell_type": "code",
   "execution_count": 5,
   "metadata": {},
   "outputs": [
    {
     "name": "stdout",
     "output_type": "stream",
     "text": [
      "Found 17485 images belonging to 18 classes.\n"
     ]
    }
   ],
   "source": [
    "# Validate set generator\n",
    "val_datagen_rb = kimage.ImageDataGenerator(preprocessing_function=resnet50.preprocess_input)\n",
    "val_generator_rb = val_datagen_rb.flow_from_directory(\n",
    "        directory='./mask5_validate',\n",
    "        target_size=(224, 224),\n",
    "        color_mode=\"rgb\",\n",
    "        batch_size=1,\n",
    "        class_mode=\"categorical\",\n",
    "        shuffle=False,\n",
    "        seed=1\n",
    ")"
   ]
  },
  {
   "cell_type": "code",
   "execution_count": 6,
   "metadata": {},
   "outputs": [
    {
     "name": "stdout",
     "output_type": "stream",
     "text": [
      "Found 17475 images belonging to 18 classes.\n"
     ]
    }
   ],
   "source": [
    "# Test set generator\n",
    "test_datagen_rb = kimage.ImageDataGenerator(preprocessing_function=resnet50.preprocess_input)\n",
    "test_generator_rb = test_datagen_rb.flow_from_directory(\n",
    "        directory='./mask5_test',\n",
    "        target_size=(224, 224),\n",
    "        color_mode=\"rgb\",\n",
    "        batch_size=1,\n",
    "        class_mode=\"categorical\",\n",
    "        shuffle=False,\n",
    "        seed=1\n",
    ")"
   ]
  },
  {
   "cell_type": "markdown",
   "metadata": {},
   "source": [
    "### Definzione e training Modello 1"
   ]
  },
  {
   "cell_type": "code",
   "execution_count": 7,
   "metadata": {},
   "outputs": [],
   "source": [
    "# Download del modello pre-allenato\n",
    "base_net1 = resnet50.ResNet50(weights='imagenet', include_top=False, pooling='avg')\n",
    "\n",
    "# Congelamento dell'80% dei layer interni\n",
    "limit=int(len(base_net1.layers)*.8)\n",
    "for layer in base_net1.layers[:limit]:\n",
    "    layer.trainable = False\n",
    "\n",
    "# Costruzione layer di specializzazione\n",
    "x = base_net1.output\n",
    "pred = Dense(18, activation='softmax')(x)\n",
    "\n",
    "# Compilazione del modello\n",
    "resnet_basic = Model(inputs=base_net1.input, outputs=pred)\n",
    "resnet_basic.compile(optimizer='adam', loss='categorical_crossentropy', metrics=['accuracy'])\n",
    "\n",
    "# Definizione delle callback da utilizzare in fase di allenamento\n",
    "bestmodel=ModelCheckpoint(filepath='pesi_mask5_resnet_basic.h5', \n",
    "                          monitor='val_acc', \n",
    "                          verbose=1, \n",
    "                          save_best_only=True, \n",
    "                          save_weights_only=True, \n",
    "                          mode='auto', \n",
    "                          period=1)\n",
    "earlystop=EarlyStopping(monitor='val_acc', \n",
    "                        min_delta=0, \n",
    "                        patience=6, \n",
    "                        verbose=1, \n",
    "                        mode='auto', \n",
    "                        baseline=None, \n",
    "                        restore_best_weights=True)\n",
    "\n",
    "\n"
   ]
  },
  {
   "cell_type": "code",
   "execution_count": 8,
   "metadata": {
    "collapsed": true
   },
   "outputs": [
    {
     "name": "stdout",
     "output_type": "stream",
     "text": [
      "Epoch 1/50\n",
      "409/409 [==============================] - 579s 1s/step - loss: 1.2827 - acc: 0.5608 - val_loss: 2.2001 - val_acc: 0.3745\n",
      "\n",
      "Epoch 00001: val_acc improved from -inf to 0.37449, saving model to pesi_mask5_resnet_basic.h5\n",
      "Epoch 2/50\n",
      "409/409 [==============================] - 572s 1s/step - loss: 0.7391 - acc: 0.7446 - val_loss: 3.0111 - val_acc: 0.3631\n",
      "\n",
      "Epoch 00002: val_acc did not improve from 0.37449\n",
      "Epoch 3/50\n",
      "409/409 [==============================] - 617s 2s/step - loss: 0.4229 - acc: 0.8569 - val_loss: 2.8564 - val_acc: 0.3899\n",
      "\n",
      "Epoch 00003: val_acc improved from 0.37449 to 0.38993, saving model to pesi_mask5_resnet_basic.h5\n",
      "Epoch 4/50\n",
      "409/409 [==============================] - 659s 2s/step - loss: 0.2207 - acc: 0.9327 - val_loss: 3.0819 - val_acc: 0.4155\n",
      "\n",
      "Epoch 00004: val_acc improved from 0.38993 to 0.41550, saving model to pesi_mask5_resnet_basic.h5\n",
      "Epoch 5/50\n",
      "409/409 [==============================] - 634s 2s/step - loss: 0.1383 - acc: 0.9602 - val_loss: 3.6242 - val_acc: 0.3938\n",
      "\n",
      "Epoch 00005: val_acc did not improve from 0.41550\n",
      "Epoch 6/50\n",
      "409/409 [==============================] - 666s 2s/step - loss: 0.0978 - acc: 0.9737 - val_loss: 3.7137 - val_acc: 0.4077\n",
      "\n",
      "Epoch 00006: val_acc did not improve from 0.41550\n",
      "Epoch 7/50\n",
      "409/409 [==============================] - 634s 2s/step - loss: 0.0787 - acc: 0.9789 - val_loss: 4.7877 - val_acc: 0.3633\n",
      "\n",
      "Epoch 00007: val_acc did not improve from 0.41550\n",
      "Epoch 8/50\n",
      "409/409 [==============================] - 636s 2s/step - loss: 0.0658 - acc: 0.9812 - val_loss: 4.2690 - val_acc: 0.4043\n",
      "\n",
      "Epoch 00008: val_acc did not improve from 0.41550\n",
      "Epoch 9/50\n",
      "409/409 [==============================] - 636s 2s/step - loss: 0.0652 - acc: 0.9814 - val_loss: 3.9364 - val_acc: 0.4391\n",
      "\n",
      "Epoch 00009: val_acc improved from 0.41550 to 0.43912, saving model to pesi_mask5_resnet_basic.h5\n",
      "Epoch 10/50\n",
      "409/409 [==============================] - 639s 2s/step - loss: 0.0586 - acc: 0.9824 - val_loss: 3.4584 - val_acc: 0.4629\n",
      "\n",
      "Epoch 00010: val_acc improved from 0.43912 to 0.46285, saving model to pesi_mask5_resnet_basic.h5\n",
      "Epoch 11/50\n",
      "409/409 [==============================] - 593s 1s/step - loss: 0.0486 - acc: 0.9850 - val_loss: 4.4184 - val_acc: 0.4175\n",
      "\n",
      "Epoch 00011: val_acc did not improve from 0.46285\n",
      "Epoch 12/50\n",
      "409/409 [==============================] - 586s 1s/step - loss: 0.0492 - acc: 0.9851 - val_loss: 4.3359 - val_acc: 0.3976\n",
      "\n",
      "Epoch 00012: val_acc did not improve from 0.46285\n",
      "Epoch 13/50\n",
      "409/409 [==============================] - 586s 1s/step - loss: 0.0457 - acc: 0.9855 - val_loss: 3.7066 - val_acc: 0.4450\n",
      "\n",
      "Epoch 00013: val_acc did not improve from 0.46285\n",
      "Epoch 14/50\n",
      "409/409 [==============================] - 586s 1s/step - loss: 0.0400 - acc: 0.9871 - val_loss: 4.3878 - val_acc: 0.4273\n",
      "\n",
      "Epoch 00014: val_acc did not improve from 0.46285\n",
      "Epoch 15/50\n",
      "409/409 [==============================] - 586s 1s/step - loss: 0.0331 - acc: 0.9894 - val_loss: 4.8007 - val_acc: 0.4125\n",
      "\n",
      "Epoch 00015: val_acc did not improve from 0.46285\n",
      "Epoch 16/50\n",
      "409/409 [==============================] - 585s 1s/step - loss: 0.0374 - acc: 0.9876 - val_loss: 4.8474 - val_acc: 0.4111\n",
      "\n",
      "Epoch 00016: val_acc did not improve from 0.46285\n",
      "Restoring model weights from the end of the best epoch\n",
      "Epoch 00016: early stopping\n"
     ]
    },
    {
     "data": {
      "text/plain": [
       "<keras.callbacks.History at 0x2c6e8317d30>"
      ]
     },
     "execution_count": 8,
     "metadata": {},
     "output_type": "execute_result"
    }
   ],
   "source": [
    "# Training del modello\n",
    "resnet_basic.fit_generator(train_generator_rb, steps_per_epoch=len(train_generator_rb), \n",
    "                           epochs=50, callbacks=[bestmodel, earlystop], \n",
    "                           validation_data=val_generator_rb, \n",
    "                           validation_steps=len(val_generator_rb), \n",
    "                           verbose=1)\n"
   ]
  },
  {
   "cell_type": "code",
   "execution_count": 8,
   "metadata": {},
   "outputs": [],
   "source": [
    "# Shortcut per caricare i pesi prodotti dal training precedente\n",
    "resnet_basic.load_weights('pesi_mask5_resnet_basic.h5')\n"
   ]
  },
  {
   "cell_type": "markdown",
   "metadata": {},
   "source": [
    "### Valutazione Modello 1"
   ]
  },
  {
   "cell_type": "code",
   "execution_count": 9,
   "metadata": {},
   "outputs": [
    {
     "name": "stdout",
     "output_type": "stream",
     "text": [
      "17475/17475 [==============================] - 265s 15ms/step\n"
     ]
    }
   ],
   "source": [
    "# Estrazione true labels e generazione delle predizioni\n",
    "y_test_rb = test_generator_rb.classes\n",
    "\n",
    "y_dist_rb = resnet_basic.predict_generator(test_generator_rb, steps=len(test_generator_rb.filenames), verbose=1)\n",
    "y_pred_rb = np.argmax(y_dist_rb, axis=1)"
   ]
  },
  {
   "cell_type": "code",
   "execution_count": 10,
   "metadata": {},
   "outputs": [
    {
     "name": "stdout",
     "output_type": "stream",
     "text": [
      "              precision    recall  f1-score   support\n",
      "\n",
      "           0       0.54      0.72      0.61      1110\n",
      "           1       0.49      0.23      0.31       990\n",
      "           2       0.79      0.91      0.85       850\n",
      "           3       0.56      0.74      0.63      1230\n",
      "           4       0.69      0.55      0.61       750\n",
      "           5       0.36      0.32      0.34      1030\n",
      "           6       0.39      0.44      0.41       720\n",
      "           7       0.61      0.44      0.51       835\n",
      "           8       0.50      0.35      0.41      1045\n",
      "           9       0.69      0.38      0.49       940\n",
      "          10       0.42      0.67      0.51       820\n",
      "          11       0.85      0.44      0.58      1120\n",
      "          12       0.31      0.48      0.38      1275\n",
      "          13       0.29      0.56      0.38      1200\n",
      "          14       0.49      0.49      0.49       835\n",
      "          15       0.57      0.06      0.12       895\n",
      "          16       0.56      0.23      0.33       925\n",
      "          17       0.36      0.47      0.41       905\n",
      "\n",
      "   micro avg       0.47      0.47      0.47     17475\n",
      "   macro avg       0.52      0.47      0.46     17475\n",
      "weighted avg       0.52      0.47      0.46     17475\n",
      "\n"
     ]
    }
   ],
   "source": [
    "# Report\n",
    "print(classification_report(y_test_rb, y_pred_rb))"
   ]
  },
  {
   "cell_type": "code",
   "execution_count": 11,
   "metadata": {},
   "outputs": [
    {
     "data": {
      "image/png": "[encoded data removed]",
      "text/plain": [
       "<Figure size 432x288 with 1 Axes>"
      ]
     },
     "metadata": {
      "needs_background": "light"
     },
     "output_type": "display_data"
    },
    {
     "name": "stdout",
     "output_type": "stream",
     "text": [
      "accuracy: 0.474220\n"
     ]
    }
   ],
   "source": [
    "# Matrice di confusione\n",
    "cm = confusion_matrix(y_test_rb, y_pred_rb)\n",
    "plt.imshow(cm, cmap=plt.cm.Blues)\n",
    "plt.yticks(range(0,len(classes)),classes)\n",
    "plt.xticks(range(0,len(classes)),classes,rotation=90)\n",
    "plt.show()\n",
    "print(\"accuracy: %.6f\" % ( cm.trace()/cm.sum() ) )"
   ]
  },
  {
   "cell_type": "markdown",
   "metadata": {},
   "source": [
    "## Modello 2: Resnet50_plus"
   ]
  },
  {
   "cell_type": "code",
   "execution_count": 13,
   "metadata": {},
   "outputs": [
    {
     "name": "stdout",
     "output_type": "stream",
     "text": [
      "Found 52330 images belonging to 18 classes.\n"
     ]
    }
   ],
   "source": [
    "# Training set generator\n",
    "train_datagen_rp = kimage.ImageDataGenerator(preprocessing_function=resnet50.preprocess_input)\n",
    "train_generator_rp = train_datagen_rp.flow_from_directory(\n",
    "        directory='./mask5_train',\n",
    "        target_size=(224, 224),\n",
    "        color_mode=\"rgb\",\n",
    "        batch_size=128,\n",
    "        class_mode=\"categorical\",\n",
    "        shuffle=True,\n",
    "        seed=1\n",
    ")"
   ]
  },
  {
   "cell_type": "code",
   "execution_count": 14,
   "metadata": {},
   "outputs": [
    {
     "name": "stdout",
     "output_type": "stream",
     "text": [
      "Found 17485 images belonging to 18 classes.\n"
     ]
    }
   ],
   "source": [
    "# Validate set generator\n",
    "val_datagen_rp = kimage.ImageDataGenerator(preprocessing_function=resnet50.preprocess_input)\n",
    "val_generator_rp = val_datagen_rp.flow_from_directory(\n",
    "        directory='./mask5_validate',\n",
    "        target_size=(224, 224),\n",
    "        color_mode=\"rgb\",\n",
    "        batch_size=1,\n",
    "        class_mode=\"categorical\",\n",
    "        shuffle=False,\n",
    "        seed=1\n",
    ")"
   ]
  },
  {
   "cell_type": "code",
   "execution_count": 15,
   "metadata": {},
   "outputs": [
    {
     "name": "stdout",
     "output_type": "stream",
     "text": [
      "Found 17475 images belonging to 18 classes.\n"
     ]
    }
   ],
   "source": [
    "# Test set generator\n",
    "test_datagen_rp = kimage.ImageDataGenerator(preprocessing_function=resnet50.preprocess_input)\n",
    "test_generator_rp = test_datagen_rp.flow_from_directory(\n",
    "        directory='./mask5_test',\n",
    "        target_size=(224, 224),\n",
    "        color_mode=\"rgb\",\n",
    "        batch_size=1,\n",
    "        class_mode=\"categorical\",\n",
    "        shuffle=False,\n",
    "        seed=1\n",
    ")"
   ]
  },
  {
   "cell_type": "markdown",
   "metadata": {},
   "source": [
    "### Definzione e training Modello 2"
   ]
  },
  {
   "cell_type": "code",
   "execution_count": 17,
   "metadata": {},
   "outputs": [],
   "source": [
    "# Download del modello pre-allenato\n",
    "base_net2 = resnet50.ResNet50(weights='imagenet', include_top=False, pooling='avg')\n",
    "\n",
    "# Congelamento dell'80% dei layer interni\n",
    "limit=int(len(base_net2.layers)*.8)\n",
    "for layer in base_net2.layers[:limit]:\n",
    "    layer.trainable = False\n",
    "\n",
    "# Costruzione dei layer di specializzazione\n",
    "x = base_net2.output\n",
    "x = Dense(1024, kernel_regularizer=l2(0.01), bias_regularizer=l2(0.01), activation='relu')(x)\n",
    "x = Dropout(0.15)(x)\n",
    "x = Dense(512, kernel_regularizer=l2(0.01), bias_regularizer=l2(0.01), activation='relu')(x)\n",
    "x = Dense(256, kernel_regularizer=l2(0.01), bias_regularizer=l2(0.01), activation='relu')(x)\n",
    "x = Dropout(0.15)(x)\n",
    "x = Dense(128, kernel_regularizer=l2(0.01), bias_regularizer=l2(0.01), activation='relu')(x)\n",
    "x = Dense(64, kernel_regularizer=l2(0.01), bias_regularizer=l2(0.01), activation='relu')(x)\n",
    "pred = Dense(18, activation='softmax')(x)\n",
    "\n",
    "# Compilazione del modello\n",
    "resnet_power = Model(inputs=base_net2.input, outputs=pred)\n",
    "resnet_power.compile(optimizer='adam', loss='categorical_crossentropy', metrics=['accuracy'])\n",
    "\n",
    "# Definizione delle callback da utilizzare in fase di allenamento\n",
    "bestmodel=ModelCheckpoint(filepath='pesi_mask5_resnet_power.h5', \n",
    "                          monitor='val_acc', verbose=1, \n",
    "                          save_best_only=True, save_weights_only=True, \n",
    "                          mode='auto', period=1)\n",
    "earlystop=EarlyStopping(monitor='val_acc', min_delta=0, \n",
    "                        patience=6, verbose=1, mode='auto', \n",
    "                        baseline=None, restore_best_weights=True)"
   ]
  },
  {
   "cell_type": "code",
   "execution_count": 10,
   "metadata": {
    "collapsed": true
   },
   "outputs": [
    {
     "name": "stdout",
     "output_type": "stream",
     "text": [
      "Epoch 1/50\n",
      "409/409 [==============================] - 606s 1s/step - loss: 4.1113 - acc: 0.4201 - val_loss: 3.0186 - val_acc: 0.3086\n",
      "\n",
      "Epoch 00001: val_acc improved from -inf to 0.30861, saving model to pesi_mask5_resnet_power.h5\n",
      "Epoch 2/50\n",
      "409/409 [==============================] - 598s 1s/step - loss: 1.6996 - acc: 0.5338 - val_loss: 2.5795 - val_acc: 0.3973\n",
      "\n",
      "Epoch 00002: val_acc improved from 0.30861 to 0.39725, saving model to pesi_mask5_resnet_power.h5\n",
      "Epoch 3/50\n",
      "409/409 [==============================] - 598s 1s/step - loss: 1.4383 - acc: 0.5978 - val_loss: 3.1658 - val_acc: 0.3338\n",
      "\n",
      "Epoch 00003: val_acc did not improve from 0.39725\n",
      "Epoch 4/50\n",
      "409/409 [==============================] - 598s 1s/step - loss: 1.2427 - acc: 0.6569 - val_loss: 2.5545 - val_acc: 0.3919\n",
      "\n",
      "Epoch 00004: val_acc did not improve from 0.39725\n",
      "Epoch 5/50\n",
      "409/409 [==============================] - 598s 1s/step - loss: 1.0610 - acc: 0.7167 - val_loss: 2.9253 - val_acc: 0.4000\n",
      "\n",
      "Epoch 00005: val_acc improved from 0.39725 to 0.40000, saving model to pesi_mask5_resnet_power.h5\n",
      "Epoch 6/50\n",
      "409/409 [==============================] - 598s 1s/step - loss: 0.9122 - acc: 0.7699 - val_loss: 2.8466 - val_acc: 0.3735\n",
      "\n",
      "Epoch 00006: val_acc did not improve from 0.40000\n",
      "Epoch 7/50\n",
      "409/409 [==============================] - 598s 1s/step - loss: 0.7987 - acc: 0.8101 - val_loss: 3.2597 - val_acc: 0.3838\n",
      "\n",
      "Epoch 00007: val_acc did not improve from 0.40000\n",
      "Epoch 8/50\n",
      "409/409 [==============================] - 598s 1s/step - loss: 0.6848 - acc: 0.8498 - val_loss: 3.1524 - val_acc: 0.3938\n",
      "\n",
      "Epoch 00008: val_acc did not improve from 0.40000\n",
      "Epoch 9/50\n",
      "409/409 [==============================] - 598s 1s/step - loss: 0.5978 - acc: 0.8833 - val_loss: 3.1834 - val_acc: 0.4008\n",
      "\n",
      "Epoch 00009: val_acc improved from 0.40000 to 0.40080, saving model to pesi_mask5_resnet_power.h5\n",
      "Epoch 10/50\n",
      "409/409 [==============================] - 591s 1s/step - loss: 0.5181 - acc: 0.9106 - val_loss: 3.3337 - val_acc: 0.3966\n",
      "\n",
      "Epoch 00010: val_acc did not improve from 0.40080\n",
      "Epoch 11/50\n",
      "409/409 [==============================] - 589s 1s/step - loss: 0.4625 - acc: 0.9288 - val_loss: 4.1172 - val_acc: 0.3612\n",
      "\n",
      "Epoch 00011: val_acc did not improve from 0.40080\n",
      "Epoch 12/50\n",
      "409/409 [==============================] - 589s 1s/step - loss: 0.4428 - acc: 0.9368 - val_loss: 3.1341 - val_acc: 0.4180\n",
      "\n",
      "Epoch 00012: val_acc improved from 0.40080 to 0.41802, saving model to pesi_mask5_resnet_power.h5\n",
      "Epoch 13/50\n",
      "409/409 [==============================] - 589s 1s/step - loss: 0.3996 - acc: 0.9471 - val_loss: 3.4354 - val_acc: 0.3962\n",
      "\n",
      "Epoch 00013: val_acc did not improve from 0.41802\n",
      "Epoch 14/50\n",
      "409/409 [==============================] - 589s 1s/step - loss: 0.3755 - acc: 0.9546 - val_loss: 3.6868 - val_acc: 0.3913\n",
      "\n",
      "Epoch 00014: val_acc did not improve from 0.41802\n",
      "Epoch 15/50\n",
      "409/409 [==============================] - 589s 1s/step - loss: 0.3379 - acc: 0.9626 - val_loss: 4.3470 - val_acc: 0.3726\n",
      "\n",
      "Epoch 00015: val_acc did not improve from 0.41802\n",
      "Epoch 16/50\n",
      "409/409 [==============================] - 589s 1s/step - loss: 0.3284 - acc: 0.9664 - val_loss: 3.5345 - val_acc: 0.4057\n",
      "\n",
      "Epoch 00016: val_acc did not improve from 0.41802\n",
      "Epoch 17/50\n",
      "409/409 [==============================] - 589s 1s/step - loss: 0.3088 - acc: 0.9694 - val_loss: 3.9155 - val_acc: 0.4027\n",
      "\n",
      "Epoch 00017: val_acc did not improve from 0.41802\n",
      "Epoch 18/50\n",
      "409/409 [==============================] - 589s 1s/step - loss: 0.3106 - acc: 0.9693 - val_loss: 2.9826 - val_acc: 0.4443\n",
      "\n",
      "Epoch 00018: val_acc improved from 0.41802 to 0.44432, saving model to pesi_mask5_resnet_power.h5\n",
      "Epoch 19/50\n",
      "409/409 [==============================] - 589s 1s/step - loss: 0.2897 - acc: 0.9721 - val_loss: 3.6562 - val_acc: 0.3839\n",
      "\n",
      "Epoch 00019: val_acc did not improve from 0.44432\n",
      "Epoch 20/50\n",
      "409/409 [==============================] - 589s 1s/step - loss: 0.2867 - acc: 0.9741 - val_loss: 3.3716 - val_acc: 0.4232\n",
      "\n",
      "Epoch 00020: val_acc did not improve from 0.44432\n",
      "Epoch 21/50\n",
      "409/409 [==============================] - 589s 1s/step - loss: 0.2744 - acc: 0.9755 - val_loss: 3.8572 - val_acc: 0.3953\n",
      "\n",
      "Epoch 00021: val_acc did not improve from 0.44432\n",
      "Epoch 22/50\n",
      "409/409 [==============================] - 589s 1s/step - loss: 0.2635 - acc: 0.9770 - val_loss: 3.9151 - val_acc: 0.3882\n",
      "\n",
      "Epoch 00022: val_acc did not improve from 0.44432\n",
      "Epoch 23/50\n",
      "409/409 [==============================] - 589s 1s/step - loss: 0.2583 - acc: 0.9780 - val_loss: 4.0680 - val_acc: 0.3765\n",
      "\n",
      "Epoch 00023: val_acc did not improve from 0.44432\n",
      "Epoch 24/50\n",
      "409/409 [==============================] - 589s 1s/step - loss: 0.2623 - acc: 0.9772 - val_loss: 3.6721 - val_acc: 0.3999\n",
      "\n",
      "Epoch 00024: val_acc did not improve from 0.44432\n",
      "Restoring model weights from the end of the best epoch\n",
      "Epoch 00024: early stopping\n"
     ]
    },
    {
     "data": {
      "text/plain": [
       "<keras.callbacks.History at 0x21d1f622208>"
      ]
     },
     "execution_count": 10,
     "metadata": {},
     "output_type": "execute_result"
    }
   ],
   "source": [
    "# Training del modello\n",
    "resnet_power.fit_generator(train_generator_rp, steps_per_epoch=len(train_generator_rp), \n",
    "                           epochs=50, callbacks=[bestmodel, earlystop], \n",
    "                           validation_data=val_generator_rp, \n",
    "                           validation_steps=len(val_generator_rp), \n",
    "                           verbose=1)"
   ]
  },
  {
   "cell_type": "code",
   "execution_count": 18,
   "metadata": {},
   "outputs": [],
   "source": [
    "# Shortcut per caricare i pesi prodotti dal training precedente\n",
    "resnet_power.load_weights('pesi_mask5_resnet_power.h5')"
   ]
  },
  {
   "cell_type": "markdown",
   "metadata": {},
   "source": [
    "### Valutazione Modello 2"
   ]
  },
  {
   "cell_type": "code",
   "execution_count": 19,
   "metadata": {},
   "outputs": [
    {
     "name": "stdout",
     "output_type": "stream",
     "text": [
      "17475/17475 [==============================] - 274s 16ms/step\n"
     ]
    }
   ],
   "source": [
    "# Estrazione true labels e generazione delle predizioni\n",
    "y_test_rp = test_generator_rp.classes\n",
    "\n",
    "y_dist_rp = resnet_power.predict_generator(test_generator_rp, steps=len(test_generator_rp.filenames), verbose=1)\n",
    "y_pred_rp = np.argmax(y_dist_rp, axis=1)"
   ]
  },
  {
   "cell_type": "code",
   "execution_count": 20,
   "metadata": {},
   "outputs": [
    {
     "name": "stdout",
     "output_type": "stream",
     "text": [
      "              precision    recall  f1-score   support\n",
      "\n",
      "           0       0.59      0.60      0.59      1110\n",
      "           1       0.43      0.32      0.37       990\n",
      "           2       0.77      0.92      0.84       850\n",
      "           3       0.49      0.69      0.57      1230\n",
      "           4       0.50      0.62      0.56       750\n",
      "           5       0.33      0.29      0.31      1030\n",
      "           6       0.37      0.42      0.39       720\n",
      "           7       0.61      0.23      0.33       835\n",
      "           8       0.48      0.49      0.49      1045\n",
      "           9       0.54      0.34      0.41       940\n",
      "          10       0.39      0.57      0.46       820\n",
      "          11       0.70      0.48      0.57      1120\n",
      "          12       0.33      0.31      0.32      1275\n",
      "          13       0.32      0.49      0.39      1200\n",
      "          14       0.53      0.36      0.43       835\n",
      "          15       0.37      0.18      0.24       895\n",
      "          16       0.32      0.30      0.31       925\n",
      "          17       0.30      0.47      0.37       905\n",
      "\n",
      "   micro avg       0.45      0.45      0.45     17475\n",
      "   macro avg       0.47      0.45      0.44     17475\n",
      "weighted avg       0.46      0.45      0.44     17475\n",
      "\n"
     ]
    }
   ],
   "source": [
    "# Report\n",
    "print(classification_report(y_test_rp, y_pred_rp))"
   ]
  },
  {
   "cell_type": "code",
   "execution_count": 21,
   "metadata": {},
   "outputs": [
    {
     "data": {
      "image/png": "[encoded data removed]",
      "text/plain": [
       "<Figure size 432x288 with 1 Axes>"
      ]
     },
     "metadata": {
      "needs_background": "light"
     },
     "output_type": "display_data"
    },
    {
     "name": "stdout",
     "output_type": "stream",
     "text": [
      "accuracy: 0.449557\n"
     ]
    }
   ],
   "source": [
    "# Matrice di confusione\n",
    "cm = confusion_matrix(y_test_rp, y_pred_rp)\n",
    "plt.imshow(cm, cmap=plt.cm.Blues)\n",
    "plt.yticks(range(0,len(classes)),classes)\n",
    "plt.xticks(range(0,len(classes)),classes,rotation=90)\n",
    "plt.show()\n",
    "print(\"accuracy: %.6f\" % ( cm.trace()/cm.sum() ) )"
   ]
  },
  {
   "cell_type": "markdown",
   "metadata": {},
   "source": [
    "## Modello 3: Densenet_basic"
   ]
  },
  {
   "cell_type": "code",
   "execution_count": 23,
   "metadata": {},
   "outputs": [
    {
     "name": "stdout",
     "output_type": "stream",
     "text": [
      "Found 52330 images belonging to 18 classes.\n"
     ]
    }
   ],
   "source": [
    "# Training set generator\n",
    "train_datagen_db = kimage.ImageDataGenerator(preprocessing_function=densenet.preprocess_input)\n",
    "train_generator_db = train_datagen_db.flow_from_directory(\n",
    "        directory='./mask5_train',\n",
    "        target_size=(224, 224),\n",
    "        color_mode=\"rgb\",\n",
    "        batch_size=128,\n",
    "        class_mode=\"categorical\",\n",
    "        shuffle=True,\n",
    "        seed=1\n",
    ")"
   ]
  },
  {
   "cell_type": "code",
   "execution_count": 24,
   "metadata": {},
   "outputs": [
    {
     "name": "stdout",
     "output_type": "stream",
     "text": [
      "Found 17485 images belonging to 18 classes.\n"
     ]
    }
   ],
   "source": [
    "# Validate set generator\n",
    "val_datagen_db = kimage.ImageDataGenerator(preprocessing_function=densenet.preprocess_input)\n",
    "val_generator_db = val_datagen_db.flow_from_directory(\n",
    "        directory='./mask5_validate',\n",
    "        target_size=(224, 224),\n",
    "        color_mode=\"rgb\",\n",
    "        batch_size=1,\n",
    "        class_mode=\"categorical\",\n",
    "        shuffle=False,\n",
    "        seed=1\n",
    ")"
   ]
  },
  {
   "cell_type": "code",
   "execution_count": 25,
   "metadata": {},
   "outputs": [
    {
     "name": "stdout",
     "output_type": "stream",
     "text": [
      "Found 17475 images belonging to 18 classes.\n"
     ]
    }
   ],
   "source": [
    "# Test set generator\n",
    "test_datagen_db = kimage.ImageDataGenerator(preprocessing_function=densenet.preprocess_input)\n",
    "test_generator_db = test_datagen_db.flow_from_directory(\n",
    "        directory='./mask5_test',\n",
    "        target_size=(224, 224),\n",
    "        color_mode=\"rgb\",\n",
    "        batch_size=1,\n",
    "        class_mode=\"categorical\",\n",
    "        shuffle=False,\n",
    "        seed=1\n",
    ")"
   ]
  },
  {
   "cell_type": "markdown",
   "metadata": {},
   "source": [
    "### Definzione e training Modello 3"
   ]
  },
  {
   "cell_type": "code",
   "execution_count": 26,
   "metadata": {},
   "outputs": [],
   "source": [
    "# Download del modello pre-allenato\n",
    "base_net3 = densenet.DenseNet201(weights='imagenet', include_top=False, pooling='avg')\n",
    "\n",
    "# Congelamento dell'80% dei layer interni\n",
    "limit=int(len(base_net3.layers)*.8)\n",
    "for layer in base_net3.layers[:limit]:\n",
    "    layer.trainable = False\n",
    "    \n",
    "# Costruzione layer di specializzazione    \n",
    "x = base_net3.output\n",
    "pred = Dense(18, activation='softmax')(x)\n",
    "\n",
    "# Compilazione del modello\n",
    "densenet_basic = Model(inputs=base_net3.input, outputs=pred)\n",
    "densenet_basic.compile(optimizer='adam', loss='categorical_crossentropy', metrics=['accuracy'])\n",
    "\n",
    "# Definizione delle callback da utilizzare in fase di allenamento\n",
    "bestmodel=ModelCheckpoint(filepath='pesi_mask5_densenet_basic.h5', \n",
    "                          monitor='val_acc', verbose=1, \n",
    "                          save_best_only=True, save_weights_only=True, \n",
    "                          mode='auto', period=1)\n",
    "earlystop=EarlyStopping(monitor='val_acc', min_delta=0, \n",
    "                        patience=6, verbose=1, mode='auto', \n",
    "                        baseline=None, restore_best_weights=True)\n",
    "\n"
   ]
  },
  {
   "cell_type": "code",
   "execution_count": 19,
   "metadata": {
    "collapsed": true
   },
   "outputs": [
    {
     "name": "stdout",
     "output_type": "stream",
     "text": [
      "Epoch 1/50\n",
      "409/409 [==============================] - 1123s 3s/step - loss: 1.2529 - acc: 0.5702 - val_loss: 3.0813 - val_acc: 0.3715\n",
      "\n",
      "Epoch 00001: val_acc improved from -inf to 0.37152, saving model to pesi_mask5_densenet_basic.h5\n",
      "Epoch 2/50\n",
      "409/409 [==============================] - 1107s 3s/step - loss: 0.6695 - acc: 0.7709 - val_loss: 3.6566 - val_acc: 0.3604\n",
      "\n",
      "Epoch 00002: val_acc did not improve from 0.37152\n",
      "Epoch 3/50\n",
      "409/409 [==============================] - 1107s 3s/step - loss: 0.3323 - acc: 0.8958 - val_loss: 3.8543 - val_acc: 0.3764\n",
      "\n",
      "Epoch 00003: val_acc improved from 0.37152 to 0.37644, saving model to pesi_mask5_densenet_basic.h5\n",
      "Epoch 4/50\n",
      "409/409 [==============================] - 1109s 3s/step - loss: 0.1627 - acc: 0.9560 - val_loss: 4.5094 - val_acc: 0.3858\n",
      "\n",
      "Epoch 00004: val_acc improved from 0.37644 to 0.38582, saving model to pesi_mask5_densenet_basic.h5\n",
      "Epoch 5/50\n",
      "409/409 [==============================] - 1106s 3s/step - loss: 0.0972 - acc: 0.9761 - val_loss: 4.8013 - val_acc: 0.3937\n",
      "\n",
      "Epoch 00005: val_acc improved from 0.38582 to 0.39371, saving model to pesi_mask5_densenet_basic.h5\n",
      "Epoch 6/50\n",
      "409/409 [==============================] - 1106s 3s/step - loss: 0.0781 - acc: 0.9810 - val_loss: 5.4804 - val_acc: 0.3517\n",
      "\n",
      "Epoch 00006: val_acc did not improve from 0.39371\n",
      "Epoch 7/50\n",
      "409/409 [==============================] - 1106s 3s/step - loss: 0.1132 - acc: 0.9676 - val_loss: 5.9059 - val_acc: 0.3519\n",
      "\n",
      "Epoch 00007: val_acc did not improve from 0.39371\n",
      "Epoch 8/50\n",
      "409/409 [==============================] - 1107s 3s/step - loss: 0.0902 - acc: 0.9734 - val_loss: 6.1368 - val_acc: 0.3407\n",
      "\n",
      "Epoch 00008: val_acc did not improve from 0.39371\n",
      "Epoch 9/50\n",
      "409/409 [==============================] - 1106s 3s/step - loss: 0.0780 - acc: 0.9777 - val_loss: 4.6793 - val_acc: 0.4321\n",
      "\n",
      "Epoch 00009: val_acc improved from 0.39371 to 0.43208, saving model to pesi_mask5_densenet_basic.h5\n",
      "Epoch 10/50\n",
      "409/409 [==============================] - 1103s 3s/step - loss: 0.0542 - acc: 0.9855 - val_loss: 5.2547 - val_acc: 0.3913\n",
      "\n",
      "Epoch 00010: val_acc did not improve from 0.43208\n",
      "Epoch 11/50\n",
      "409/409 [==============================] - 1106s 3s/step - loss: 0.0585 - acc: 0.9827 - val_loss: 5.2082 - val_acc: 0.4110\n",
      "\n",
      "Epoch 00011: val_acc did not improve from 0.43208\n",
      "Epoch 12/50\n",
      "409/409 [==============================] - 1106s 3s/step - loss: 0.0674 - acc: 0.9792 - val_loss: 4.8472 - val_acc: 0.4121\n",
      "\n",
      "Epoch 00012: val_acc did not improve from 0.43208\n",
      "Epoch 13/50\n",
      "409/409 [==============================] - 1106s 3s/step - loss: 0.0749 - acc: 0.9764 - val_loss: 5.4565 - val_acc: 0.4133\n",
      "\n",
      "Epoch 00013: val_acc did not improve from 0.43208\n",
      "Epoch 14/50\n",
      "409/409 [==============================] - 1106s 3s/step - loss: 0.0558 - acc: 0.9832 - val_loss: 5.6390 - val_acc: 0.3884\n",
      "\n",
      "Epoch 00014: val_acc did not improve from 0.43208\n",
      "Epoch 15/50\n",
      "409/409 [==============================] - 1106s 3s/step - loss: 0.0457 - acc: 0.9860 - val_loss: 6.4459 - val_acc: 0.3612\n",
      "\n",
      "Epoch 00015: val_acc did not improve from 0.43208\n",
      "Restoring model weights from the end of the best epoch\n",
      "Epoch 00015: early stopping\n"
     ]
    },
    {
     "data": {
      "text/plain": [
       "<keras.callbacks.History at 0x21d0a0db898>"
      ]
     },
     "execution_count": 19,
     "metadata": {},
     "output_type": "execute_result"
    }
   ],
   "source": [
    "# Training del modello\n",
    "densenet_basic.fit_generator(train_generator_db, steps_per_epoch=len(train_generator_db), \n",
    "                             epochs=50, callbacks=[bestmodel, earlystop], \n",
    "                             validation_data=val_generator_db, \n",
    "                             validation_steps=len(val_generator_db), \n",
    "                             verbose=1)\n"
   ]
  },
  {
   "cell_type": "code",
   "execution_count": 28,
   "metadata": {},
   "outputs": [],
   "source": [
    "# Shortcut per caricare i pesi prodotti dal training precedente\n",
    "densenet_basic.load_weights('pesi_mask5_densenet_basic.h5')"
   ]
  },
  {
   "cell_type": "markdown",
   "metadata": {},
   "source": [
    "### Valutazione Modello 3"
   ]
  },
  {
   "cell_type": "code",
   "execution_count": 29,
   "metadata": {},
   "outputs": [
    {
     "name": "stdout",
     "output_type": "stream",
     "text": [
      "17475/17475 [==============================] - 669s 38ms/step\n"
     ]
    }
   ],
   "source": [
    "# Estrazione true labels e generazione delle predizioni\n",
    "y_test_db = test_generator_db.classes\n",
    "\n",
    "y_dist_db = densenet_basic.predict_generator(test_generator_db, steps=len(test_generator_db.filenames), verbose=1)\n",
    "y_pred_db = np.argmax(y_dist_db, axis=1)"
   ]
  },
  {
   "cell_type": "code",
   "execution_count": 30,
   "metadata": {},
   "outputs": [
    {
     "name": "stdout",
     "output_type": "stream",
     "text": [
      "              precision    recall  f1-score   support\n",
      "\n",
      "           0       0.75      0.46      0.57      1110\n",
      "           1       0.62      0.05      0.10       990\n",
      "           2       0.73      0.89      0.80       850\n",
      "           3       0.52      0.72      0.60      1230\n",
      "           4       0.49      0.78      0.60       750\n",
      "           5       0.32      0.35      0.33      1030\n",
      "           6       0.29      0.72      0.41       720\n",
      "           7       0.48      0.51      0.50       835\n",
      "           8       0.67      0.18      0.28      1045\n",
      "           9       0.62      0.43      0.51       940\n",
      "          10       0.53      0.35      0.42       820\n",
      "          11       0.74      0.50      0.60      1120\n",
      "          12       0.27      0.22      0.24      1275\n",
      "          13       0.32      0.51      0.39      1200\n",
      "          14       0.45      0.60      0.51       835\n",
      "          15       0.67      0.02      0.04       895\n",
      "          16       0.38      0.34      0.36       925\n",
      "          17       0.27      0.56      0.36       905\n",
      "\n",
      "   micro avg       0.44      0.44      0.44     17475\n",
      "   macro avg       0.51      0.45      0.42     17475\n",
      "weighted avg       0.51      0.44      0.42     17475\n",
      "\n"
     ]
    }
   ],
   "source": [
    "# Report\n",
    "print(classification_report(y_test_db, y_pred_db))"
   ]
  },
  {
   "cell_type": "code",
   "execution_count": 31,
   "metadata": {},
   "outputs": [
    {
     "data": {
      "image/png": "[encoded data removed]",
      "text/plain": [
       "<Figure size 432x288 with 1 Axes>"
      ]
     },
     "metadata": {
      "needs_background": "light"
     },
     "output_type": "display_data"
    },
    {
     "name": "stdout",
     "output_type": "stream",
     "text": [
      "accuracy: 0.443319\n"
     ]
    }
   ],
   "source": [
    "# Matrice di confusione\n",
    "cm = confusion_matrix(y_test_db, y_pred_db)\n",
    "plt.imshow(cm, cmap=plt.cm.Blues)\n",
    "plt.yticks(range(0,len(classes)),classes)\n",
    "plt.xticks(range(0,len(classes)),classes,rotation=90)\n",
    "plt.show()\n",
    "print(\"accuracy: %.6f\" % ( cm.trace()/cm.sum() ) )"
   ]
  },
  {
   "cell_type": "markdown",
   "metadata": {},
   "source": [
    "## Modello Ensemble"
   ]
  },
  {
   "cell_type": "code",
   "execution_count": 34,
   "metadata": {},
   "outputs": [],
   "source": [
    "# Retrival e combinazione degli output dei singoli modelli per ogni elemento del test set\n",
    "# Costruzione dell'output del modello ensemble\n",
    "y = []\n",
    "for i in range(len(test_generator_rb)):\n",
    "    y.append((y_dist_rb[i] + y_dist_rp[i] + y_dist_db[i])/3)"
   ]
  },
  {
   "cell_type": "markdown",
   "metadata": {},
   "source": [
    "### Valutazione Modello Ensemble"
   ]
  },
  {
   "cell_type": "code",
   "execution_count": 35,
   "metadata": {},
   "outputs": [
    {
     "name": "stdout",
     "output_type": "stream",
     "text": [
      "              precision    recall  f1-score   support\n",
      "\n",
      "           0       0.66      0.66      0.66      1110\n",
      "           1       0.58      0.19      0.29       990\n",
      "           2       0.78      0.93      0.85       850\n",
      "           3       0.55      0.79      0.65      1230\n",
      "           4       0.60      0.71      0.65       750\n",
      "           5       0.41      0.36      0.38      1030\n",
      "           6       0.38      0.58      0.46       720\n",
      "           7       0.60      0.45      0.52       835\n",
      "           8       0.59      0.39      0.47      1045\n",
      "           9       0.69      0.44      0.53       940\n",
      "          10       0.48      0.63      0.55       820\n",
      "          11       0.82      0.51      0.63      1120\n",
      "          12       0.35      0.38      0.36      1275\n",
      "          13       0.33      0.61      0.43      1200\n",
      "          14       0.51      0.58      0.54       835\n",
      "          15       0.61      0.05      0.09       895\n",
      "          16       0.48      0.33      0.39       925\n",
      "          17       0.34      0.56      0.43       905\n",
      "\n",
      "   micro avg       0.51      0.51      0.51     17475\n",
      "   macro avg       0.54      0.51      0.49     17475\n",
      "weighted avg       0.54      0.51      0.49     17475\n",
      "\n"
     ]
    }
   ],
   "source": [
    "# Estrazione true labels e generazione delle predizioni\n",
    "y_real = test_generator_db.classes\n",
    "y_pred = np.argmax(y, axis=1)\n",
    "\n",
    "# Report\n",
    "print(classification_report(y_real, y_pred))"
   ]
  },
  {
   "cell_type": "code",
   "execution_count": 40,
   "metadata": {},
   "outputs": [
    {
     "data": {
      "image/png": "[encoded data removed]",
      "text/plain": [
       "<Figure size 432x288 with 1 Axes>"
      ]
     },
     "metadata": {
      "needs_background": "light"
     },
     "output_type": "display_data"
    },
    {
     "name": "stdout",
     "output_type": "stream",
     "text": [
      "accuracy: 0.505351\n"
     ]
    }
   ],
   "source": [
    "# Matrice di confusione\n",
    "cm = confusion_matrix(y_real, y_pred)\n",
    "plt.imshow(cm, cmap=plt.cm.Blues)\n",
    "plt.yticks(range(0,len(classes)),classes)\n",
    "plt.xticks(range(0,len(classes)),classes,rotation=90)\n",
    "plt.show()\n",
    "print(\"accuracy: %.6f\" % ( cm.trace()/cm.sum() ) )"
   ]
  },
  {
   "cell_type": "markdown",
   "metadata": {},
   "source": [
    "## Meta Modello Mask5"
   ]
  },
  {
   "cell_type": "markdown",
   "metadata": {},
   "source": [
    "I risultati del Modello Ensemble relativi ai singoli chunk sono riaggregati in un meta modello per la classificazione delle immagini originali."
   ]
  },
  {
   "cell_type": "code",
   "execution_count": 41,
   "metadata": {},
   "outputs": [],
   "source": [
    "y_pred5 = []\n",
    "y_true5 = []\n",
    "\n",
    "for idx in range(0,len(test_generator_rb),5):\n",
    "    yp5 = np.argmax( sum( y[idx:idx+5] )/5. )\n",
    "    yt5 = y_real[idx]\n",
    "    y_pred5.append(yp5)\n",
    "    y_true5.append(yt5)"
   ]
  },
  {
   "cell_type": "code",
   "execution_count": 42,
   "metadata": {},
   "outputs": [
    {
     "data": {
      "image/png": "[encoded data removed]",
      "text/plain": [
       "<Figure size 432x288 with 1 Axes>"
      ]
     },
     "metadata": {
      "needs_background": "light"
     },
     "output_type": "display_data"
    },
    {
     "name": "stdout",
     "output_type": "stream",
     "text": [
      "accuracy: 0.577396\n"
     ]
    }
   ],
   "source": [
    "# Matrice di confusione \n",
    "cm2 = confusion_matrix(y_true5, y_pred5)\n",
    "plt.imshow(cm2, cmap=plt.cm.Blues)\n",
    "plt.yticks(range(0,len(classes)),classes)\n",
    "plt.xticks(range(0,len(classes)),classes,rotation=90)\n",
    "plt.show()\n",
    "print(\"accuracy: %.6f\" % ( cm2.trace()/cm2.sum() ) )"
   ]
  },
  {
   "cell_type": "code",
   "execution_count": 47,
   "metadata": {},
   "outputs": [
    {
     "data": {
      "image/png": "[encoded data removed]",
      "text/plain": [
       "<Figure size 432x288 with 1 Axes>"
      ]
     },
     "metadata": {
      "needs_background": "light"
     },
     "output_type": "display_data"
    }
   ],
   "source": [
    "# Matrice di confusione dei miglioramenti\n",
    "plt.imshow((cm2-cm/5), cmap=plt.cm.Blues)\n",
    "plt.yticks(range(0,len(classes)),classes)\n",
    "plt.xticks(range(0,len(classes)),classes,rotation=90)\n",
    "plt.show()"
   ]
  }
 ],
 "metadata": {
  "kernelspec": {
   "display_name": "Python 3",
   "language": "python",
   "name": "python3"
  },
  "language_info": {
   "codemirror_mode": {
    "name": "ipython",
    "version": 3
   },
   "file_extension": ".py",
   "mimetype": "text/x-python",
   "name": "python",
   "nbconvert_exporter": "python",
   "pygments_lexer": "ipython3",
   "version": "3.6.6"
  }
 },
 "nbformat": 4,
 "nbformat_minor": 2
}
