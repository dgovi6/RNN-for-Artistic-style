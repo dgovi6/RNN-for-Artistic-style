{
 "cells": [
  {
   "cell_type": "markdown",
   "metadata": {},
   "source": [
    "# Task 1.3"
   ]
  },
  {
   "cell_type": "markdown",
   "metadata": {},
   "source": [
    "## Importazione delle librerie e definizione delle funzioni"
   ]
  },
  {
   "cell_type": "code",
   "execution_count": 1,
   "metadata": {},
   "outputs": [],
   "source": [
    "import os\n",
    "import pickle\n",
    "import numpy as np\n",
    "from scipy.io.wavfile import read\n",
    "from featureextraction import extract_features\n",
    "import warnings\n",
    "import glob\n",
    "import time\n",
    "import speech_recognition as spr \n",
    "import sounddevice as sd\n",
    "warnings.filterwarnings(\"ignore\")\n",
    "duration = 5 \n",
    "rec_rate = 44100\n",
    "error = 0\n",
    "total_sample = 0.0\n",
    "\n",
    "\n",
    "def determine_speaker(audio, sr):\n",
    "    if str(type(audio[0])) == \"<class 'numpy.int16'>\": audio = audio / 32768.0\n",
    "    vector   = extract_features(audio,sr)\n",
    "    log_likelihood = np.zeros(len(models)) \n",
    "    for i in range(len(models)):\n",
    "        gmm = models[i]  #checking with each model one by one\n",
    "        scores = np.array(gmm.score(vector))\n",
    "        log_likelihood[i] = scores.sum()\n",
    "        scores = np.array(gmm.score(vector))\n",
    "        log_likelihood[i] = scores.sum()\n",
    "        #print(speakers[i] + 'score = \\t'+str(scores.sum()))\n",
    "    return np.argmax(log_likelihood)\n"
   ]
  },
  {
   "cell_type": "markdown",
   "metadata": {},
   "source": [
    "## Caricamento dei modelli\n",
    "\n",
    "Vengono importati i modelli dai file pickle in cui sono stati salvati dal train, dopodichè viene proposto di testarli su uno solo dei file di test o su tutti calcolando l'accuracy media"
   ]
  },
  {
   "cell_type": "code",
   "execution_count": 2,
   "metadata": {},
   "outputs": [
    {
     "name": "stdout",
     "output_type": "stream",
     "text": [
      "0 to test all the test files, 1 to select just one by name?0\n",
      "\n",
      "testing audio file:  dgovi_4.wav\n",
      "detected as - \t dgovi\n",
      "\n",
      "testing audio file:  dgovi_5.wav\n",
      "detected as - \t dgovi\n",
      "\n",
      "testing audio file:  dgovi_6.wav\n",
      "detected as - \t dgovi\n",
      "\n",
      "testing audio file:  dgovi_7.wav\n",
      "detected as - \t dgovi\n",
      "\n",
      "testing audio file:  dgovi_8.wav\n",
      "detected as - \t dgovi\n",
      "\n",
      "testing audio file:  pnicoli_4.wav\n",
      "detected as - \t pnicoli\n",
      "\n",
      "testing audio file:  pnicoli_5.wav\n",
      "detected as - \t pnicoli\n",
      "\n",
      "testing audio file:  pnicoli_6.wav\n",
      "detected as - \t pnicoli\n",
      "\n",
      "testing audio file:  pquadri_3.wav\n",
      "detected as - \t pquadri\n",
      "\n",
      "testing audio file:  pquadri_4.wav\n",
      "detected as - \t pquadri\n",
      "\n",
      "testing audio file:  pquadri_5.wav\n",
      "detected as - \t pnicoli\n",
      "\n",
      "testing audio file:  pquadri_6.wav\n",
      "detected as - \t pquadri\n",
      "\n",
      "testing audio file:  pquadri_7.wav\n",
      "detected as - \t pquadri\n",
      "\n",
      "testing audio file:  pquadri_8.wav\n",
      "detected as - \t pnicoli\n",
      "2 14.0\n",
      "Test run accuracy: 85.71428571428571 %\n"
     ]
    }
   ],
   "source": [
    "source   = \"test_data/\"   \n",
    "modelpath = \"gmms/\"\n",
    "gmm_files = [os.path.join(modelpath,fname) for fname in \n",
    "              os.listdir(modelpath) if fname.endswith('.gmm')]\n",
    "models    = [pickle.load(open(fname,'rb')) for fname in gmm_files]\n",
    "speakers   = [fname.split(\"/\")[-1].split(\".gmm\")[0] for fname \n",
    "              in gmm_files]\n",
    "\n",
    "\n",
    "take = int(input(\"0 to test all the test files, 1 to select just one by name?\"))\n",
    "if take == 1:\n",
    "    path = input(\"enter the filename:\") \n",
    "    print(\"\\ntesting audio file : \", path)\n",
    "    sr,audio = read(source + path)\n",
    "    winner = determine_speaker(audio,sr)\n",
    "    print(\"\\tdetected as - \", speakers[winner])\n",
    "    time.sleep(1.0)\n",
    "elif take == 0:\n",
    "    source = \"test_data/\"\n",
    "    os.chdir(source)       \n",
    "    file_paths = sorted(glob.glob(\"*.wav\"))\n",
    "    os.chdir('..')\n",
    "# Read the test directory and get the list of test audio files \n",
    "    for path in file_paths:   \n",
    "            total_sample += 1.0\n",
    "            path = path.strip()   \n",
    "            print(\"\\ntesting audio file: \", path)\n",
    "            sr,audio = read(source + path)\n",
    "            winner = determine_speaker(audio,sr)\n",
    "            print(\"detected as - \\t\", speakers[winner])\n",
    "            checker_name = path.split(\"_\")[0]\n",
    "            if speakers[winner] != checker_name:\n",
    "                error += 1\n",
    "            time.sleep(1.0)\n",
    "    print(error, total_sample)\n",
    "    accuracy = ((total_sample - error) / total_sample) * 100\n",
    "    print (\"Test run accuracy:\", accuracy, \"%\")\n"
   ]
  },
  {
   "cell_type": "markdown",
   "metadata": {},
   "source": [
    "## Test per un singolo audio in live"
   ]
  },
  {
   "cell_type": "code",
   "execution_count": 11,
   "metadata": {},
   "outputs": [
    {
     "name": "stdout",
     "output_type": "stream",
     "text": [
      "pquadriscore = \t-33.30877127895754\n",
      "dgoviscore = \t-32.40743716630698\n",
      "pnicoliscore = \t-34.26579863299158\n",
      "Speaker identificato:  dgovi\n"
     ]
    }
   ],
   "source": [
    "rec = sd.rec(int(duration * rec_rate), samplerate=rec_rate, channels=1, blocking=True)\n",
    "print('Speaker identificato: ',speakers[determine_speaker(rec, rec_rate)])"
   ]
  }
 ],
 "metadata": {
  "kernelspec": {
   "display_name": "Python 3",
   "language": "python",
   "name": "python3"
  },
  "language_info": {
   "codemirror_mode": {
    "name": "ipython",
    "version": 3
   },
   "file_extension": ".py",
   "mimetype": "text/x-python",
   "name": "python",
   "nbconvert_exporter": "python",
   "pygments_lexer": "ipython3",
   "version": "3.6.6"
  }
 },
 "nbformat": 4,
 "nbformat_minor": 2
}
