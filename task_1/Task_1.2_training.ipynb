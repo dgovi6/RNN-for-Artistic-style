{
 "cells": [
  {
   "cell_type": "markdown",
   "metadata": {},
   "source": [
    "# Task 1.2"
   ]
  },
  {
   "cell_type": "markdown",
   "metadata": {},
   "source": [
    "## Importazione delle librerie"
   ]
  },
  {
   "cell_type": "code",
   "execution_count": null,
   "metadata": {},
   "outputs": [],
   "source": [
    "import pickle\n",
    "import numpy as np\n",
    "import os\n",
    "import glob\n",
    "from scipy.io.wavfile import read\n",
    "from sklearn.mixture import GaussianMixture as GMM \n",
    "from featureextraction import extract_features\n",
    "from sklearn.preprocessing import MinMaxScaler\n",
    "import warnings\n",
    "warnings.filterwarnings(\"ignore\")\n",
    "\n",
    "\n",
    "source   = \"audio_samples/\"   \n",
    "dest = \"gmms/\""
   ]
  },
  {
   "cell_type": "markdown",
   "metadata": {},
   "source": [
    "## Creazione dei modelli\n",
    "\n",
    "Viene letta la directory di train cercando i file audio, che vengono letti sequenzialmente e uniti per creare un singolo vettore (quattro file audio per persona).\n",
    "\n",
    "Tramite una funzione ausiliaria vengono estratti 20 mfccs e i rispettivi delta, per un totale di 40 features su cui viene fittata una mistura di modelli gaussiani, che verrà utilizzata per determinare lo speaker"
   ]
  },
  {
   "cell_type": "code",
   "execution_count": 4,
   "metadata": {},
   "outputs": [
    {
     "name": "stdout",
     "output_type": "stream",
     "text": [
      "dgovi_0.wav\n",
      "dgovi_1.wav\n",
      "dgovi_3.wav\n",
      "dgovi_9.wav\n",
      "+ modeling completed for speaker: dgovi.gmm  with data point =  (8706, 40)\n",
      "pnicoli_0.wav\n",
      "pnicoli_1.wav\n",
      "pnicoli_3.wav\n",
      "pnicoli_7.wav\n",
      "+ modeling completed for speaker: pnicoli.gmm  with data point =  (8788, 40)\n",
      "pquadri_0.wav\n",
      "pquadri_1.wav\n",
      "pquadri_2.wav\n",
      "pquadri_9.wav\n",
      "+ modeling completed for speaker: pquadri.gmm  with data point =  (8671, 40)\n"
     ]
    }
   ],
   "source": [
    "os.chdir(source)       \n",
    "file_paths = sorted(glob.glob(\"*.wav\"))\n",
    "os.chdir('..')\n",
    "count = 0\n",
    "# Creating an empty features array\n",
    "features = np.asarray(())\n",
    "for path in file_paths:  \n",
    "    #checking progress\n",
    "    print(path)\n",
    "    path = path.strip()   \n",
    "    sr,audio = read(source + path)\n",
    "    vector   = extract_features(audio,sr) \n",
    "    if features.size == 0:\n",
    "        features = vector\n",
    "    else:\n",
    "        features = np.vstack((features, vector))\n",
    "    count = count + 1\n",
    "    #if 4 files have been processed, create the model\n",
    "    if count == 4:    \n",
    "        gmm = GMM(n_components = 512, covariance_type='diag')\n",
    "        gmm.fit(features)\n",
    "        # dumping the trained gaussian model\n",
    "        picklefile = path.split(\"_\")[0]+\".gmm\"\n",
    "        pickle.dump(gmm,open(dest + picklefile,'wb'))\n",
    "        print('+ modeling completed for speaker:',picklefile,\" with data point = \",features.shape) \n",
    "        features = np.asarray(())\n",
    "        count = 0\n",
    "    "
   ]
  }
 ],
 "metadata": {
  "kernelspec": {
   "display_name": "Python 3",
   "language": "python",
   "name": "python3"
  },
  "language_info": {
   "codemirror_mode": {
    "name": "ipython",
    "version": 3
   },
   "file_extension": ".py",
   "mimetype": "text/x-python",
   "name": "python",
   "nbconvert_exporter": "python",
   "pygments_lexer": "ipython3",
   "version": "3.6.6"
  }
 },
 "nbformat": 4,
 "nbformat_minor": 2
}
