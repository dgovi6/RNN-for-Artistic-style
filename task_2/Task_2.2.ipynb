{
 "cells": [
  {
   "cell_type": "markdown",
   "metadata": {},
   "source": [
    "# Image recognition\n",
    "## Task 2.2\n",
    "---\n",
    "Task di classificazione di opere d'arte su 18 classi facenti riferimento a movimenti artistici di appartenenza."
   ]
  },
  {
   "cell_type": "markdown",
   "metadata": {},
   "source": [
    "## Importazione delle librerie"
   ]
  },
  {
   "cell_type": "code",
   "execution_count": 5,
   "metadata": {
    "colab": {},
    "colab_type": "code",
    "id": "j3cE0AJSqwWX"
   },
   "outputs": [],
   "source": [
    "import pandas as pd\n",
    "import numpy as np\n",
    "import os\n",
    "import matplotlib.pyplot as plt\n",
    "import random\n",
    "from shutil import copyfile\n",
    "from time import time\n",
    "import zipfile"
   ]
  },
  {
   "cell_type": "code",
   "execution_count": 6,
   "metadata": {
    "colab": {},
    "colab_type": "code",
    "id": "3cl4UsDHq3Xb"
   },
   "outputs": [],
   "source": [
    "from sklearn.metrics import classification_report, confusion_matrix\n",
    "from keras.applications import resnet50, inception_resnet_v2, MobileNet, xception, densenet\n",
    "from keras.preprocessing import image as kimage\n",
    "from keras.models import Model, load_model\n",
    "from keras.layers import Dense, GlobalAveragePooling2D, Dropout, Average, Input\n",
    "from keras.callbacks import EarlyStopping, ModelCheckpoint, ReduceLROnPlateau\n",
    "from keras import optimizers\n",
    "import keras\n",
    "from keras.regularizers import l1, l2\n"
   ]
  },
  {
   "cell_type": "markdown",
   "metadata": {},
   "source": [
    "### Definizione delle classi da classificare"
   ]
  },
  {
   "cell_type": "code",
   "execution_count": 7,
   "metadata": {},
   "outputs": [
    {
     "data": {
      "text/plain": [
       "['AbstractArt',\n",
       " 'Baroque',\n",
       " 'Byzantin_Iconography',\n",
       " 'Cubism',\n",
       " 'Early_Renaissance',\n",
       " 'Expressionism',\n",
       " 'Fauvism',\n",
       " 'High_Renaissance',\n",
       " 'Impressionism',\n",
       " 'NaiveArt',\n",
       " 'Northern_Renaissance',\n",
       " 'PopArt',\n",
       " 'Post_Impressionism',\n",
       " 'Realism',\n",
       " 'Rococo',\n",
       " 'Romanticism',\n",
       " 'Surrealism',\n",
       " 'Symbolism']"
      ]
     },
     "execution_count": 7,
     "metadata": {},
     "output_type": "execute_result"
    }
   ],
   "source": [
    "classes = os.listdir('Pandora_18k')\n",
    "random.seed(1)\n",
    "classes.remove('.DS_Store')\n",
    "classes"
   ]
  },
  {
   "cell_type": "markdown",
   "metadata": {},
   "source": [
    "## Modello 1: Resnet50_basic"
   ]
  },
  {
   "cell_type": "code",
   "execution_count": 8,
   "metadata": {},
   "outputs": [
    {
     "name": "stdout",
     "output_type": "stream",
     "text": [
      "Found 13125 images belonging to 18 classes.\n"
     ]
    }
   ],
   "source": [
    "# Training set generator\n",
    "train_datagen_rb = kimage.ImageDataGenerator(preprocessing_function=resnet50.preprocess_input)\n",
    "train_generator_rb = train_datagen_rb.flow_from_directory(\n",
    "        directory='./aug_train_1',\n",
    "        target_size=(224, 224),\n",
    "        color_mode=\"rgb\",\n",
    "        batch_size=128,\n",
    "        class_mode=\"categorical\",\n",
    "        shuffle=True,\n",
    "        seed=1\n",
    ")"
   ]
  },
  {
   "cell_type": "code",
   "execution_count": 9,
   "metadata": {},
   "outputs": [
    {
     "name": "stdout",
     "output_type": "stream",
     "text": [
      "Found 4383 images belonging to 18 classes.\n"
     ]
    }
   ],
   "source": [
    "# Validate set generator\n",
    "val_datagen_rb = kimage.ImageDataGenerator(preprocessing_function=resnet50.preprocess_input)\n",
    "val_generator_rb = val_datagen_rb.flow_from_directory(\n",
    "        directory='./aug_val_1',\n",
    "        target_size=(224, 224),\n",
    "        color_mode=\"rgb\",\n",
    "        batch_size=1,\n",
    "        class_mode=\"categorical\",\n",
    "        shuffle=False,\n",
    "        seed=1\n",
    ")"
   ]
  },
  {
   "cell_type": "code",
   "execution_count": 10,
   "metadata": {},
   "outputs": [
    {
     "name": "stdout",
     "output_type": "stream",
     "text": [
      "Found 4378 images belonging to 18 classes.\n"
     ]
    }
   ],
   "source": [
    "# Test set generator\n",
    "test_datagen_rb = kimage.ImageDataGenerator(preprocessing_function=resnet50.preprocess_input)\n",
    "test_generator_rb = test_datagen_rb.flow_from_directory(\n",
    "        directory='./aug_test_1',\n",
    "        target_size=(224, 224),\n",
    "        color_mode=\"rgb\",\n",
    "        batch_size=1,\n",
    "        class_mode=\"categorical\",\n",
    "        shuffle=False,\n",
    "        seed=1\n",
    ")"
   ]
  },
  {
   "cell_type": "markdown",
   "metadata": {},
   "source": [
    "### Definzione e training Modello 1"
   ]
  },
  {
   "cell_type": "code",
   "execution_count": 11,
   "metadata": {},
   "outputs": [],
   "source": [
    "# Download del modello pre-allenato\n",
    "base_net1 = resnet50.ResNet50(weights='imagenet', include_top=False, pooling='avg')\n",
    "\n",
    "# Congelamento dell'80% dei layer interni\n",
    "limit=int(len(base_net1.layers)*.8)\n",
    "for layer in base_net1.layers[:limit]:\n",
    "    layer.trainable = False\n",
    "\n",
    "# Costruzione layer di specializzazione\n",
    "x = base_net1.output\n",
    "pred = Dense(18, activation='softmax')(x)\n",
    "\n",
    "# Compilazione del modello\n",
    "resnet_basic = Model(inputs=base_net1.input, outputs=pred)\n",
    "resnet_basic.compile(optimizer='adam', loss='categorical_crossentropy', metrics=['accuracy'])\n",
    "\n",
    "# Definizione delle callback da utilizzare in fase di allenamento\n",
    "bestmodel=ModelCheckpoint(filepath='best_weights_basic_resnet50_aug.h5', \n",
    "                          monitor='val_acc', \n",
    "                          verbose=1, \n",
    "                          save_best_only=True, \n",
    "                          save_weights_only=True, \n",
    "                          mode='auto', \n",
    "                          period=1)\n",
    "earlystop=EarlyStopping(monitor='val_acc', \n",
    "                        min_delta=0, \n",
    "                        patience=6, \n",
    "                        verbose=1, \n",
    "                        mode='auto', \n",
    "                        baseline=None, \n",
    "                        restore_best_weights=True)\n",
    "\n",
    "\n"
   ]
  },
  {
   "cell_type": "code",
   "execution_count": null,
   "metadata": {},
   "outputs": [],
   "source": [
    "# Training del modello\n",
    "resnet_basic.fit_generator(train_generator_rb, steps_per_epoch=len(train_generator_rb), \n",
    "                           epochs=50, callbacks=[bestmodel, earlystop], \n",
    "                           validation_data=val_generator_rb, \n",
    "                           validation_steps=len(val_generator_rb), \n",
    "                           verbose=1)"
   ]
  },
  {
   "cell_type": "code",
   "execution_count": 12,
   "metadata": {},
   "outputs": [],
   "source": [
    "# Shortcut per caricare i pesi prodotti dal training precedente\n",
    "resnet_basic.load_weights('best_weights_basic_resnet50_aug.h5')"
   ]
  },
  {
   "cell_type": "markdown",
   "metadata": {},
   "source": [
    "### Valutazione Modello 1"
   ]
  },
  {
   "cell_type": "code",
   "execution_count": 13,
   "metadata": {},
   "outputs": [
    {
     "name": "stdout",
     "output_type": "stream",
     "text": [
      "4378/4378 [==============================] - 73s 17ms/step\n"
     ]
    }
   ],
   "source": [
    "# Estrazione true labels e generazione delle predizioni\n",
    "y_test_rb = test_generator_rb.classes\n",
    "\n",
    "y_dist_rb = resnet_basic.predict_generator(test_generator_rb, steps=len(test_generator_rb.filenames), verbose=1)\n",
    "y_pred_rb = np.argmax(y_dist_rb, axis=1)"
   ]
  },
  {
   "cell_type": "code",
   "execution_count": 14,
   "metadata": {},
   "outputs": [
    {
     "name": "stdout",
     "output_type": "stream",
     "text": [
      "              precision    recall  f1-score   support\n",
      "\n",
      "           0       0.64      0.83      0.72       262\n",
      "           1       0.49      0.36      0.41       230\n",
      "           2       0.63      1.00      0.77       234\n",
      "           3       0.61      0.67      0.64       297\n",
      "           4       0.87      0.66      0.75       250\n",
      "           5       0.29      0.52      0.37       234\n",
      "           6       0.48      0.38      0.42       154\n",
      "           7       0.67      0.69      0.68       209\n",
      "           8       0.80      0.43      0.56       258\n",
      "           9       0.77      0.35      0.49       231\n",
      "          10       0.77      0.65      0.70       250\n",
      "          11       0.98      0.30      0.46       273\n",
      "          12       0.35      0.53      0.42       288\n",
      "          13       0.76      0.39      0.51       322\n",
      "          14       0.46      0.79      0.58       204\n",
      "          15       0.43      0.57      0.49       220\n",
      "          16       0.62      0.54      0.58       216\n",
      "          17       0.53      0.54      0.53       246\n",
      "\n",
      "   micro avg       0.56      0.56      0.56      4378\n",
      "   macro avg       0.62      0.57      0.56      4378\n",
      "weighted avg       0.63      0.56      0.56      4378\n",
      "\n"
     ]
    }
   ],
   "source": [
    "# Report\n",
    "print(classification_report(y_test_rb, y_pred_rb))"
   ]
  },
  {
   "cell_type": "code",
   "execution_count": 15,
   "metadata": {},
   "outputs": [
    {
     "data": {
      "image/png": "[encoded data removed]",
      "text/plain": [
       "<Figure size 432x288 with 1 Axes>"
      ]
     },
     "metadata": {
      "needs_background": "light"
     },
     "output_type": "display_data"
    },
    {
     "name": "stdout",
     "output_type": "stream",
     "text": [
      "accuracy: 0.564870\n"
     ]
    }
   ],
   "source": [
    "# Matrice di confusione\n",
    "cm = confusion_matrix(y_test_rb, y_pred_rb)\n",
    "plt.imshow(cm, cmap=plt.cm.Blues)\n",
    "plt.yticks(range(0,len(classes)),classes)\n",
    "plt.xticks(range(0,len(classes)),classes,rotation=90)\n",
    "plt.show()\n",
    "print(\"accuracy: %.6f\" % ( cm.trace()/cm.sum() ) )"
   ]
  },
  {
   "cell_type": "markdown",
   "metadata": {},
   "source": [
    "## Modello 2: ResNet50_plus"
   ]
  },
  {
   "cell_type": "code",
   "execution_count": 17,
   "metadata": {},
   "outputs": [
    {
     "name": "stdout",
     "output_type": "stream",
     "text": [
      "Found 13125 images belonging to 18 classes.\n"
     ]
    }
   ],
   "source": [
    "# Training set generator\n",
    "train_datagen_rp = kimage.ImageDataGenerator(preprocessing_function=resnet50.preprocess_input)\n",
    "train_generator_rp = train_datagen_rp.flow_from_directory(\n",
    "        directory='./aug_train_1',\n",
    "        target_size=(224, 224),\n",
    "        color_mode=\"rgb\",\n",
    "        batch_size=128,\n",
    "        class_mode=\"categorical\",\n",
    "        shuffle=True,\n",
    "        seed=1\n",
    ")"
   ]
  },
  {
   "cell_type": "code",
   "execution_count": 18,
   "metadata": {},
   "outputs": [
    {
     "name": "stdout",
     "output_type": "stream",
     "text": [
      "Found 4383 images belonging to 18 classes.\n"
     ]
    }
   ],
   "source": [
    "# Validate set generator\n",
    "val_datagen_rp = kimage.ImageDataGenerator(preprocessing_function=resnet50.preprocess_input)\n",
    "val_generator_rp = val_datagen_rp.flow_from_directory(\n",
    "        directory='./aug_val_1',\n",
    "        target_size=(224, 224),\n",
    "        color_mode=\"rgb\",\n",
    "        batch_size=1,\n",
    "        class_mode=\"categorical\",\n",
    "        shuffle=False,\n",
    "        seed=1\n",
    ")"
   ]
  },
  {
   "cell_type": "code",
   "execution_count": 19,
   "metadata": {},
   "outputs": [
    {
     "name": "stdout",
     "output_type": "stream",
     "text": [
      "Found 4378 images belonging to 18 classes.\n"
     ]
    }
   ],
   "source": [
    "# Test set generator\n",
    "test_datagen_rp = kimage.ImageDataGenerator(preprocessing_function=resnet50.preprocess_input)\n",
    "test_generator_rp = test_datagen_rp.flow_from_directory(\n",
    "        directory='./aug_test_1',\n",
    "        target_size=(224, 224),\n",
    "        color_mode=\"rgb\",\n",
    "        batch_size=1,\n",
    "        class_mode=\"categorical\",\n",
    "        shuffle=False,\n",
    "        seed=1\n",
    ")"
   ]
  },
  {
   "cell_type": "markdown",
   "metadata": {},
   "source": [
    "### Definzione e training Modello 2\n"
   ]
  },
  {
   "cell_type": "code",
   "execution_count": 20,
   "metadata": {},
   "outputs": [],
   "source": [
    "# Download del modello pre-allenato\n",
    "base_net2 = resnet50.ResNet50(weights='imagenet', include_top=False, pooling='avg')\n",
    "\n",
    "# Congelamento dell'80% dei layer interni\n",
    "limit=int(len(base_net2.layers)*.8)\n",
    "for layer in base_net2.layers[:limit]:\n",
    "    layer.trainable = False\n",
    "\n",
    "# Costruzione dei layer di specializzazione\n",
    "x = base_net2.output\n",
    "x = Dense(1024, kernel_regularizer=l2(0.01), bias_regularizer=l2(0.01), activation='relu')(x)\n",
    "x = Dropout(0.15)(x)\n",
    "x = Dense(512, kernel_regularizer=l2(0.01), bias_regularizer=l2(0.01), activation='relu')(x)\n",
    "x = Dense(256, kernel_regularizer=l2(0.01), bias_regularizer=l2(0.01), activation='relu')(x)\n",
    "x = Dropout(0.15)(x)\n",
    "x = Dense(128, kernel_regularizer=l2(0.01), bias_regularizer=l2(0.01), activation='relu')(x)\n",
    "x = Dense(64, kernel_regularizer=l2(0.01), bias_regularizer=l2(0.01), activation='relu')(x)\n",
    "pred = Dense(18, activation='softmax')(x)\n",
    "\n",
    "# Compilazione del modello\n",
    "resnet_power = Model(inputs=base_net2.input, outputs=pred)\n",
    "resnet_power.compile(optimizer='adam', loss='categorical_crossentropy', metrics=['accuracy'])\n",
    "\n",
    "# Definizione delle callback da utilizzare in fase di allenamento\n",
    "bestmodel=ModelCheckpoint(filepath='best_weights_power_resnet50_aug.h5', \n",
    "                          monitor='val_acc', verbose=1, \n",
    "                          save_best_only=True, save_weights_only=True, \n",
    "                          mode='auto', period=1)\n",
    "earlystop=EarlyStopping(monitor='val_acc', min_delta=0, \n",
    "                        patience=6, verbose=1, mode='auto', \n",
    "                        baseline=None, restore_best_weights=True)"
   ]
  },
  {
   "cell_type": "code",
   "execution_count": null,
   "metadata": {},
   "outputs": [],
   "source": [
    "# Training del modello\n",
    "resnet_power.fit_generator(train_generator_rp, steps_per_epoch=len(train_generator_rp), \n",
    "                           epochs=50, callbacks=[bestmodel, earlystop], \n",
    "                           validation_data=val_generator_rp, \n",
    "                           validation_steps=len(val_generator_rp), \n",
    "                           verbose=1)"
   ]
  },
  {
   "cell_type": "code",
   "execution_count": 21,
   "metadata": {},
   "outputs": [],
   "source": [
    "# Shortcut per caricare i pesi prodotti dal training precedente\n",
    "resnet_power.load_weights('best_weights_power_resnet50_aug.h5')"
   ]
  },
  {
   "cell_type": "markdown",
   "metadata": {},
   "source": [
    "### Valutazione Modello 2"
   ]
  },
  {
   "cell_type": "code",
   "execution_count": 22,
   "metadata": {},
   "outputs": [
    {
     "name": "stdout",
     "output_type": "stream",
     "text": [
      "4378/4378 [==============================] - 69s 16ms/step\n"
     ]
    }
   ],
   "source": [
    "# Estrazione true labels e generazione delle predizioni\n",
    "y_test_rp = test_generator_rp.classes\n",
    "\n",
    "y_dist_rp = resnet_power.predict_generator(test_generator_rp, steps=len(test_generator_rp.filenames), verbose=1)\n",
    "y_pred_rp = np.argmax(y_dist_rp, axis=1)"
   ]
  },
  {
   "cell_type": "code",
   "execution_count": 23,
   "metadata": {},
   "outputs": [
    {
     "name": "stdout",
     "output_type": "stream",
     "text": [
      "              precision    recall  f1-score   support\n",
      "\n",
      "           0       0.72      0.63      0.67       262\n",
      "           1       0.34      0.46      0.39       230\n",
      "           2       0.53      0.99      0.69       234\n",
      "           3       0.66      0.64      0.65       297\n",
      "           4       0.71      0.67      0.69       250\n",
      "           5       0.31      0.26      0.28       234\n",
      "           6       0.38      0.40      0.39       154\n",
      "           7       0.55      0.65      0.60       209\n",
      "           8       0.56      0.50      0.53       258\n",
      "           9       0.57      0.39      0.46       231\n",
      "          10       0.55      0.76      0.64       250\n",
      "          11       0.82      0.52      0.63       273\n",
      "          12       0.31      0.48      0.37       288\n",
      "          13       0.74      0.26      0.39       322\n",
      "          14       0.37      0.70      0.49       204\n",
      "          15       0.43      0.12      0.19       220\n",
      "          16       0.63      0.42      0.50       216\n",
      "          17       0.45      0.41      0.43       246\n",
      "\n",
      "   micro avg       0.51      0.51      0.51      4378\n",
      "   macro avg       0.53      0.51      0.50      4378\n",
      "weighted avg       0.55      0.51      0.50      4378\n",
      "\n"
     ]
    }
   ],
   "source": [
    "# Report\n",
    "print(classification_report(y_test_rp, y_pred_rp))"
   ]
  },
  {
   "cell_type": "code",
   "execution_count": 24,
   "metadata": {},
   "outputs": [
    {
     "data": {
      "image/png": "[encoded data removed]",
      "text/plain": [
       "<Figure size 432x288 with 1 Axes>"
      ]
     },
     "metadata": {
      "needs_background": "light"
     },
     "output_type": "display_data"
    },
    {
     "name": "stdout",
     "output_type": "stream",
     "text": [
      "accuracy: 0.512791\n"
     ]
    }
   ],
   "source": [
    "# Matrice di confusione\n",
    "cm = confusion_matrix(y_test_rp, y_pred_rp)\n",
    "plt.imshow(cm, cmap=plt.cm.Blues)\n",
    "plt.yticks(range(0,len(classes)),classes)\n",
    "plt.xticks(range(0,len(classes)),classes,rotation=90)\n",
    "plt.show()\n",
    "print(\"accuracy: %.6f\" % ( cm.trace()/cm.sum() ) )"
   ]
  },
  {
   "cell_type": "markdown",
   "metadata": {},
   "source": [
    "## Modello 3: Densenet_basic"
   ]
  },
  {
   "cell_type": "code",
   "execution_count": 25,
   "metadata": {},
   "outputs": [
    {
     "name": "stdout",
     "output_type": "stream",
     "text": [
      "Found 13125 images belonging to 18 classes.\n"
     ]
    }
   ],
   "source": [
    "# Training set generator\n",
    "train_datagen_db = kimage.ImageDataGenerator(preprocessing_function=densenet.preprocess_input)\n",
    "train_generator_db = train_datagen_db.flow_from_directory(\n",
    "        directory='./aug_train_1',\n",
    "        target_size=(224, 224),\n",
    "        color_mode=\"rgb\",\n",
    "        batch_size=128,\n",
    "        class_mode=\"categorical\",\n",
    "        shuffle=True,\n",
    "        seed=1\n",
    ")"
   ]
  },
  {
   "cell_type": "code",
   "execution_count": 26,
   "metadata": {},
   "outputs": [
    {
     "name": "stdout",
     "output_type": "stream",
     "text": [
      "Found 4383 images belonging to 18 classes.\n"
     ]
    }
   ],
   "source": [
    "# Validate set generator\n",
    "val_datagen_db = kimage.ImageDataGenerator(preprocessing_function=densenet.preprocess_input)\n",
    "val_generator_db = val_datagen_db.flow_from_directory(\n",
    "        directory='./aug_val_1',\n",
    "        target_size=(224, 224),\n",
    "        color_mode=\"rgb\",\n",
    "        batch_size=1,\n",
    "        class_mode=\"categorical\",\n",
    "        shuffle=False,\n",
    "        seed=1\n",
    ")"
   ]
  },
  {
   "cell_type": "code",
   "execution_count": 27,
   "metadata": {},
   "outputs": [
    {
     "name": "stdout",
     "output_type": "stream",
     "text": [
      "Found 4378 images belonging to 18 classes.\n"
     ]
    }
   ],
   "source": [
    "# Test set generator\n",
    "test_datagen_db = kimage.ImageDataGenerator(preprocessing_function=densenet.preprocess_input)\n",
    "test_generator_db = test_datagen_db.flow_from_directory(\n",
    "        directory='./aug_test_1',\n",
    "        target_size=(224, 224),\n",
    "        color_mode=\"rgb\",\n",
    "        batch_size=1,\n",
    "        class_mode=\"categorical\",\n",
    "        shuffle=False,\n",
    "        seed=1\n",
    ")"
   ]
  },
  {
   "cell_type": "markdown",
   "metadata": {},
   "source": [
    "### Definzione e training Modello 3"
   ]
  },
  {
   "cell_type": "code",
   "execution_count": 37,
   "metadata": {},
   "outputs": [],
   "source": [
    "# Download del modello pre-allenato\n",
    "base_net3 = densenet.DenseNet201(weights='imagenet', include_top=False, pooling='avg')\n",
    "\n",
    "# Congelamento dell'80% dei layer interni\n",
    "limit=int(len(base_net3.layers)*.8)\n",
    "for layer in base_net3.layers[:limit]:\n",
    "    layer.trainable = False\n",
    "    \n",
    "# Costruzione layer di specializzazione    \n",
    "x = base_net3.output\n",
    "pred = Dense(18, activation='softmax')(x)\n",
    "\n",
    "# Compilazione del modello\n",
    "densenet_basic = Model(inputs=base_net3.input, outputs=pred)\n",
    "densenet_basic.compile(optimizer='adam', loss='categorical_crossentropy', metrics=['accuracy'])\n",
    "\n",
    "# Definizione delle callback da utilizzare in fase di allenamento\n",
    "bestmodel=ModelCheckpoint(filepath='best_weights_basic_densenet_aug.h5', \n",
    "                          monitor='val_acc', verbose=1, \n",
    "                          save_best_only=True, save_weights_only=True, \n",
    "                          mode='auto', period=1)\n",
    "earlystop=EarlyStopping(monitor='val_acc', min_delta=0, \n",
    "                        patience=6, verbose=1, mode='auto', \n",
    "                        baseline=None, restore_best_weights=True)\n",
    "\n"
   ]
  },
  {
   "cell_type": "code",
   "execution_count": null,
   "metadata": {},
   "outputs": [],
   "source": [
    "# Training del modello\n",
    "densenet_basic.fit_generator(train_generator_db, steps_per_epoch=len(train_generator_db), \n",
    "                             epochs=50, callbacks=[bestmodel, earlystop], \n",
    "                             validation_data=val_generator_db, \n",
    "                             validation_steps=len(val_generator_db), \n",
    "                             verbose=1)"
   ]
  },
  {
   "cell_type": "code",
   "execution_count": 38,
   "metadata": {},
   "outputs": [],
   "source": [
    "# Shortcut per caricare i pesi prodotti dal training precedente\n",
    "densenet_basic.load_weights('best_weights_basic_densenet_aug.h5')"
   ]
  },
  {
   "cell_type": "markdown",
   "metadata": {},
   "source": [
    "### Valutazione Modello 3"
   ]
  },
  {
   "cell_type": "code",
   "execution_count": 39,
   "metadata": {},
   "outputs": [
    {
     "name": "stdout",
     "output_type": "stream",
     "text": [
      "4378/4378 [==============================] - 179s 41ms/step\n"
     ]
    }
   ],
   "source": [
    "# Estrazione true labels e generazione delle predizioni\n",
    "y_test_db = test_generator_db.classes\n",
    "\n",
    "y_dist_db = densenet_basic.predict_generator(test_generator_db, \n",
    "                                             steps=len(test_generator_db.filenames), \n",
    "                                             verbose=1)\n",
    "y_pred_db = np.argmax(y_dist_db, axis=1)"
   ]
  },
  {
   "cell_type": "code",
   "execution_count": 40,
   "metadata": {},
   "outputs": [
    {
     "name": "stdout",
     "output_type": "stream",
     "text": [
      "              precision    recall  f1-score   support\n",
      "\n",
      "           0       0.70      0.67      0.68       262\n",
      "           1       0.78      0.20      0.31       230\n",
      "           2       0.62      0.95      0.75       234\n",
      "           3       0.60      0.76      0.67       297\n",
      "           4       0.66      0.83      0.74       250\n",
      "           5       0.39      0.45      0.42       234\n",
      "           6       0.35      0.64      0.46       154\n",
      "           7       0.69      0.61      0.65       209\n",
      "           8       0.70      0.41      0.52       258\n",
      "           9       0.67      0.51      0.58       231\n",
      "          10       0.63      0.71      0.67       250\n",
      "          11       0.95      0.34      0.50       273\n",
      "          12       0.41      0.40      0.40       288\n",
      "          13       0.67      0.52      0.59       322\n",
      "          14       0.51      0.76      0.61       204\n",
      "          15       0.56      0.45      0.50       220\n",
      "          16       0.64      0.41      0.50       216\n",
      "          17       0.39      0.68      0.50       246\n",
      "\n",
      "   micro avg       0.57      0.57      0.57      4378\n",
      "   macro avg       0.61      0.57      0.56      4378\n",
      "weighted avg       0.61      0.57      0.56      4378\n",
      "\n"
     ]
    }
   ],
   "source": [
    "# Report\n",
    "print(classification_report(y_test_db, y_pred_db))"
   ]
  },
  {
   "cell_type": "code",
   "execution_count": 41,
   "metadata": {},
   "outputs": [
    {
     "data": {
      "image/png": "[encoded data removed]",
      "text/plain": [
       "<Figure size 432x288 with 1 Axes>"
      ]
     },
     "metadata": {
      "needs_background": "light"
     },
     "output_type": "display_data"
    },
    {
     "name": "stdout",
     "output_type": "stream",
     "text": [
      "accuracy: 0.569667\n"
     ]
    }
   ],
   "source": [
    "# Matrice di confusione\n",
    "cm = confusion_matrix(y_test_db, y_pred_db)\n",
    "plt.imshow(cm, cmap=plt.cm.Blues)\n",
    "plt.yticks(range(0,len(classes)),classes)\n",
    "plt.xticks(range(0,len(classes)),classes,rotation=90)\n",
    "plt.show()\n",
    "print(\"accuracy: %.6f\" % ( cm.trace()/cm.sum() ) )"
   ]
  },
  {
   "cell_type": "markdown",
   "metadata": {},
   "source": [
    "## Modello Ensemble"
   ]
  },
  {
   "cell_type": "code",
   "execution_count": 42,
   "metadata": {},
   "outputs": [],
   "source": [
    "# Retrival e combinazione degli output dei singoli modelli per ogni elemento del test set\n",
    "# Costruzione dell'output del modello ensemble\n",
    "y = []\n",
    "for i in range(len(test_generator_rb)):\n",
    "    y.append((y_dist_rb[i] + y_dist_rp[i] + y_dist_db[i])/3)"
   ]
  },
  {
   "cell_type": "markdown",
   "metadata": {},
   "source": [
    "### Valutazione Modello Ensemble"
   ]
  },
  {
   "cell_type": "code",
   "execution_count": 43,
   "metadata": {
    "scrolled": false
   },
   "outputs": [
    {
     "name": "stdout",
     "output_type": "stream",
     "text": [
      "              precision    recall  f1-score   support\n",
      "\n",
      "           0       0.76      0.86      0.80       262\n",
      "           1       0.57      0.41      0.47       230\n",
      "           2       0.65      1.00      0.79       234\n",
      "           3       0.71      0.80      0.75       297\n",
      "           4       0.84      0.78      0.81       250\n",
      "           5       0.43      0.49      0.46       234\n",
      "           6       0.54      0.55      0.55       154\n",
      "           7       0.74      0.81      0.77       209\n",
      "           8       0.82      0.55      0.66       258\n",
      "           9       0.80      0.50      0.62       231\n",
      "          10       0.79      0.83      0.81       250\n",
      "          11       0.98      0.52      0.68       273\n",
      "          12       0.41      0.60      0.49       288\n",
      "          13       0.86      0.49      0.62       322\n",
      "          14       0.49      0.89      0.63       204\n",
      "          15       0.60      0.50      0.55       220\n",
      "          16       0.74      0.56      0.64       216\n",
      "          17       0.62      0.70      0.66       246\n",
      "\n",
      "   micro avg       0.66      0.66      0.66      4378\n",
      "   macro avg       0.69      0.66      0.65      4378\n",
      "weighted avg       0.69      0.66      0.66      4378\n",
      "\n"
     ]
    }
   ],
   "source": [
    "# Estrazione true labels e generazione delle predizioni\n",
    "y_real = test_generator_db.classes\n",
    "y_pred = np.argmax(y, axis=1)\n",
    "\n",
    "# Report\n",
    "print(classification_report(y_real, y_pred))"
   ]
  },
  {
   "cell_type": "code",
   "execution_count": 44,
   "metadata": {},
   "outputs": [
    {
     "data": {
      "image/png": "[encoded data removed]",
      "text/plain": [
       "<Figure size 432x288 with 1 Axes>"
      ]
     },
     "metadata": {
      "needs_background": "light"
     },
     "output_type": "display_data"
    },
    {
     "name": "stdout",
     "output_type": "stream",
     "text": [
      "accuracy: 0.657606\n"
     ]
    }
   ],
   "source": [
    "# Matrice di confusione\n",
    "cm = confusion_matrix(y_real, y_pred)\n",
    "plt.imshow(cm, cmap=plt.cm.Blues)\n",
    "plt.yticks(range(0,len(classes)),classes)\n",
    "plt.xticks(range(0,len(classes)),classes,rotation=90)\n",
    "plt.show()\n",
    "print(\"accuracy: %.6f\" % ( cm.trace()/cm.sum() ) )"
   ]
  },
  {
   "cell_type": "markdown",
   "metadata": {},
   "source": [
    "## Meta Modello Mask_var"
   ]
  },
  {
   "cell_type": "code",
   "execution_count": 45,
   "metadata": {},
   "outputs": [
    {
     "name": "stdout",
     "output_type": "stream",
     "text": [
      "loaded 119 chunked test file to merge\n"
     ]
    }
   ],
   "source": [
    "# Definizione delle immagini ricombinabili tramite i chunk presenti nel test set\n",
    "to_merge = ['1083AbstractArt.jpg','142AbstractArt.jpg','18AbstractArt.jpg','292AbstractArt.jpg',\n",
    "            '297AbstractArt.jpg','552AbstractArt.jpg','639AbstractArt.jpg','817AbstractArt.jpg',\n",
    "            '917AbstractArt.jpg','964AbstractArt.jpg','394Baroque.jpg','652Baroque.jpg','667Baroque.jpg',\n",
    "            '191Byzantin_Iconography.jpg','212Byzantin_Iconography.jpg','437Byzantin_Iconography.jpg',\n",
    "            '589Byzantin_Iconography.jpg','605Byzantin_Iconography.jpg','6Byzantin_Iconography.jpg',\n",
    "            '811Byzantin_Iconography.jpg','1195Cubism.jpg','343Cubism.jpg','387Cubism.jpg','395Cubism.jpg',\n",
    "            '505Cubism.jpg','676Cubism.jpg','997Cubism.jpg','125Early_Renaissance.jpg','131Early_Renaissance.jpg',\n",
    "            '300Early_Renaissance.jpg','302Early_Renaissance.jpg','395Early_Renaissance.jpg',\n",
    "            '512Early_Renaissance.jpg','549Early_Renaissance.jpg','65Early_Renaissance.jpg','21Expressionism.jpg',\n",
    "            '440Expressionism.jpg','824Expressionism.jpg','194Fauvism.jpg','525Fauvism.jpg','587Fauvism.jpg',\n",
    "            '416High_Renaissance.jpg','797High_Renaissance.jpg','1030Impressionism.jpg','21Impressionism.jpg',\n",
    "            '414Impressionism.jpg','534Impressionism.jpg','537Impressionism.jpg','61Impressionism.jpg',\n",
    "            '641Impressionism.jpg','661Impressionism.jpg','822Impressionism.jpg','914Impressionism.jpg',\n",
    "            '986Impressionism.jpg','991Impressionism.jpg','249NaiveArt.jpg','302NaiveArt.jpg','312NaiveArt.jpg',\n",
    "            '417NaiveArt.jpg','545NaiveArt.jpg','762NaiveArt.jpg','898NaiveArt.jpg','151Northern_Renaissance.jpg',\n",
    "            '191Northern_Renaissance.jpg','564Northern_Renaissance.jpg','92Northern_Renaissance.jpg','223PopArt.jpg',\n",
    "            '291PopArt.jpg','325PopArt.jpg','357PopArt.jpg','490PopArt.jpg','579PopArt.jpg','581PopArt.jpg',\n",
    "            '756PopArt.jpg','845PopArt.jpg','954PopArt.jpg','1213Post_Impressionism.jpg','1225Post_Impressionism.jpg',\n",
    "            '371Post_Impressionism.jpg','411Post_Impressionism.jpg','454Post_Impressionism.jpg','1036Realism.jpg',\n",
    "            '1075Realism.jpg','1145Realism.jpg','120Realism.jpg','306Realism.jpg','331Realism.jpg','39Realism.jpg',\n",
    "            '563Realism.jpg','72Realism.jpg','783Realism.jpg','849Realism.jpg','914Realism.jpg','953Realism.jpg',\n",
    "            '958Realism.jpg','12Rococo.jpg','225Rococo.jpg','52Rococo.jpg','641Rococo.jpg','379Romanticism.jpg',\n",
    "            '462Romanticism.jpg','473Romanticism.jpg','487Romanticism.jpg','543Romanticism.jpg','249Surrealism.jpg',\n",
    "            '771Surrealism.jpg','253Symbolism.jpg','326Symbolism.jpg','454Symbolism.jpg','485Symbolism.jpg',\n",
    "            '543Symbolism.jpg','610Symbolism.jpg','657Symbolism.jpg','741Symbolism.jpg','757Symbolism.jpg',\n",
    "            '771Symbolism.jpg','822Symbolism.jpg','830Symbolism.jpg','93Symbolism.jpg']\n",
    "print(\"loaded %s chunked test file to merge\" % len(to_merge))"
   ]
  },
  {
   "cell_type": "code",
   "execution_count": 47,
   "metadata": {},
   "outputs": [
    {
     "name": "stdout",
     "output_type": "stream",
     "text": [
      "Chunked accuracy: 0.658\n"
     ]
    }
   ],
   "source": [
    "# Verifica dell'accuracy sui chunk di cui sopra\n",
    "d = {'predicted':y_pred, 'real':y_real, 'file': test_generator_rb.filenames}\n",
    "comb = pd.DataFrame(d)\n",
    "comb['file']=comb['file'].str.replace(r'\\w+\\\\', r'')\n",
    "comb['file']=comb['file'].str.replace(r'_\\d+', r'')\n",
    "comb['result']=comb['predicted'] == comb['real']\n",
    "\n",
    "print(\"Chunked accuracy: %.3f\" % (comb['result'].sum()/len(comb['result'])))"
   ]
  },
  {
   "cell_type": "code",
   "execution_count": 50,
   "metadata": {},
   "outputs": [],
   "source": [
    "# Ricombinazione delle predizioni sui singoli chunk per la \n",
    "#classificazione delle singole immagini\n",
    "indexes=[]\n",
    "for i in range(0,len(comb['file'])):\n",
    "    if comb['file'][i] in to_merge:\n",
    "        indexes.append(i)\n",
    "index2 = list((set(list(range(0, len(comb['file'])))) - set(indexes)))\n",
    "comb=comb.drop(comb.index[index2])\n",
    "assert all([f in to_merge for f in comb['file']])\n",
    "prob = pd.DataFrame(np.row_stack(y))\n",
    "combo_all = comb.join(prob, how='inner')\n",
    "combo_all.drop(['result','predicted'], axis = 1, inplace=True)\n",
    "combo_all=combo_all.groupby('file').mean()\n",
    "combo_all['predicted'] = combo_all[[0, 1, 2, 3, 4, 5, 6, 7, 8, 9, 10, 11, 12, 13, 14, 15, 16, 17]].idxmax(axis=1)\n",
    "combo_all['score'] = combo_all['real'] == combo_all['predicted']"
   ]
  },
  {
   "cell_type": "code",
   "execution_count": 51,
   "metadata": {},
   "outputs": [
    {
     "data": {
      "text/plain": [
       "0.6890756302521008"
      ]
     },
     "execution_count": 51,
     "metadata": {},
     "output_type": "execute_result"
    }
   ],
   "source": [
    "combo_all['score'].mean()"
   ]
  }
 ],
 "metadata": {
  "colab": {
   "name": "Data Augmentation.ipynb",
   "provenance": [],
   "version": "0.3.2"
  },
  "kernelspec": {
   "display_name": "Python 3",
   "language": "python",
   "name": "python3"
  },
  "language_info": {
   "codemirror_mode": {
    "name": "ipython",
    "version": 3
   },
   "file_extension": ".py",
   "mimetype": "text/x-python",
   "name": "python",
   "nbconvert_exporter": "python",
   "pygments_lexer": "ipython3",
   "version": "3.6.6"
  }
 },
 "nbformat": 4,
 "nbformat_minor": 1
}
